{
 "cells": [
  {
   "cell_type": "markdown",
   "metadata": {},
   "source": [
    "# BDTA Lesson 1: Using Jupyter\n",
    "\n",
    "This first lesson introduces the Jupyter notebook environment."
   ]
  },
  {
   "cell_type": "markdown",
   "metadata": {},
   "source": [
    "## Introduction to programming\n",
    "\n",
    "To learn to program you need to learn a bit about the culture of programming, about the language of programming, and about the tools. \n",
    "\n",
    "* Programming has evolved from hardware configuration, to assembly languages, to readable languages like [FORTRAN](https://en.wikipedia.org/wiki/Fortran).\n",
    "* There are different types of programming langauges. \n",
    "    * Those that are compiled into stand-alone programs.\n",
    "    * Those that are interpreted as needed.\n",
    "    * Those that are notebooks with blocks of code that are interepreted interactively\n",
    "* We are using the [Python](https://www.python.org/) programming language. Our environment is [Anaconda Navigator](https://docs.anaconda.com/) which includes **IPython**, a version of Python for interactive use that works with the [Jupyther](http://jupyter.org/) notebook environment that you will use."
   ]
  },
  {
   "cell_type": "markdown",
   "metadata": {},
   "source": [
    "## Looking at a simple example\n",
    "\n",
    "Lets look at this notebook that does [Simple Sentiment Analysis](https://github.com/sgsinclair/alta/blob/Rockwell's-Edits/ipynb/utilities/SimpleSentimentAnalysis.ipynb)"
   ]
  },
  {
   "cell_type": "markdown",
   "metadata": {},
   "source": [
    "## Quick introduction to Jupyter\n",
    "\n",
    "How to get started in [Jupyter](http://jupyter.org/) editing IPython notebooks:\n",
    "\n",
    "* File management tab - managing notebooks\n",
    "* Creating a new notebook\n",
    "* No need to save\n",
    "* Editing **markdown** cells\n",
    "* Editing **code** cells\n",
    "* **Evaluating** cells\n",
    "* Getting **help"
   ]
  }
 ],
 "metadata": {
  "kernelspec": {
   "display_name": "Python 3",
   "language": "python",
   "name": "python3"
  },
  "language_info": {
   "codemirror_mode": {
    "name": "ipython",
    "version": 3
   },
   "file_extension": ".py",
   "mimetype": "text/x-python",
   "name": "python",
   "nbconvert_exporter": "python",
   "pygments_lexer": "ipython3",
   "version": "3.5.1"
  }
 },
 "nbformat": 4,
 "nbformat_minor": 0
}

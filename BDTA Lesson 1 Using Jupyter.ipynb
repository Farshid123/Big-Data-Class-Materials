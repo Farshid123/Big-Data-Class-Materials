{
 "cells": [
  {
   "cell_type": "markdown",
   "metadata": {},
   "source": [
    "# BDTA Lesson 1: Using Jupyter\n",
    "\n",
    "This first lesson introduces the Jupyter notebook environment."
   ]
  },
  {
   "cell_type": "markdown",
   "metadata": {},
   "source": [
    "# Introduction\n",
    "\n",
    "To learn to program you need to learn a bit about the culture of programming, about the language of programming, and about the tools.\n",
    "\n",
    "## Introduction to programming\n",
    "\n",
    "* Programming has evolved from hardware configuration, to assembly languages, to readable languages like [FORTRAN](https://en.wikipedia.org/wiki/Fortran).\n",
    "* There are different types of programming langauges. \n",
    "    * Those that are compiled into stand-alone programs.\n",
    "    * Those that are interpreted as needed.\n",
    "    * Those that are notebooks with blocks of code that are interepreted interactively\n",
    "* We are using the [Python](https://www.python.org/) programming language. Our environment is [Anaconda Navigator](https://docs.anaconda.com/) which includes **IPython**, a version of Python for interactive use that works with the [Jupyther](http://jupyter.org/) notebook environment that you will use."
   ]
  },
  {
   "cell_type": "markdown",
   "metadata": {},
   "source": [
    "## Looking at a simple example\n",
    "\n",
    "Lets look at this notebook that does [Simple Sentiment Analysis](https://github.com/GeoffreyRockwell/Big-Data-Class-Materials/blob/master/SimpleSentimentAnalysisExample.ipynb)"
   ]
  },
  {
   "cell_type": "markdown",
   "metadata": {},
   "source": [
    "## Quick introduction to Jupyter\n",
    "\n",
    "How to get started in [Jupyter](http://jupyter.org/) editing IPython notebooks:\n",
    "\n",
    "* File management tab - managing notebooks\n",
    "* Creating a new notebook\n",
    "* No need to save\n",
    "* Editing **markdown** cells\n",
    "* Editing **code** cells\n",
    "* **Evaluating** cells\n",
    "* Getting **help"
   ]
  },
  {
   "cell_type": "markdown",
   "metadata": {},
   "source": [
    "----\n",
    "# Getting Help\n",
    "\n",
    "To learn to program you need to learn to get help. Some sources of help include:\n",
    "\n",
    "* Use the Help menu to Jupyter above.\n",
    "    * Willems, Karlijn. [Jupyter Notebook Tutorial: The Definitive Guide](https://www.datacamp.com/community/blog/ipython-jupyter). DataCamp. Guide to Jupyter notebooks.\n",
    "    * Willems, Karlijn. [IPython or Jupyter](https://www.datacamp.com/community/blog/ipython-jupyter). DataCamp. An overview of the history of IPython/Jupyter notebooks."
   ]
  },
  {
   "cell_type": "markdown",
   "metadata": {},
   "source": [
    "\n",
    "----\n",
    "# Exercise 1: Creating Your First Notebook\n",
    "\n",
    "Can you create a Jupyter notebook with:\n",
    "\n",
    "* Two levels of headings\n",
    "* Some text with *italics* and **bold**.\n",
    "* A bulletted list.\n",
    "* A link to a web site.\n",
    "\n",
    "Other things to try:\n",
    "\n",
    "* Can you embed an image?"
   ]
  },
  {
   "cell_type": "code",
   "execution_count": null,
   "metadata": {
    "collapsed": true
   },
   "outputs": [],
   "source": []
  }
 ],
 "metadata": {
  "kernelspec": {
   "display_name": "Python 3",
   "language": "python",
   "name": "python3"
  },
  "language_info": {
   "codemirror_mode": {
    "name": "ipython",
    "version": 3
   },
   "file_extension": ".py",
   "mimetype": "text/x-python",
   "name": "python",
   "nbconvert_exporter": "python",
   "pygments_lexer": "ipython3",
   "version": "3.5.1"
  }
 },
 "nbformat": 4,
 "nbformat_minor": 0
}

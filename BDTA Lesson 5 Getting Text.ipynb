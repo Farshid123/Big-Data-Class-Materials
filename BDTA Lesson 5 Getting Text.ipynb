{
 "cells": [
  {
   "cell_type": "markdown",
   "metadata": {},
   "source": [
    "# Getting Data\n",
    "\n",
    "In this lesson we will look at different ways of getting data."
   ]
  },
  {
   "cell_type": "markdown",
   "metadata": {},
   "source": [
    "## Using command line in notebook\n",
    "\n",
    "One can check the operating system and run commands from within a notebook."
   ]
  },
  {
   "cell_type": "code",
   "execution_count": null,
   "metadata": {},
   "outputs": [],
   "source": [
    "# You can get a directory listing\n",
    "%ls"
   ]
  },
  {
   "cell_type": "code",
   "execution_count": null,
   "metadata": {},
   "outputs": [],
   "source": [
    "# You can create directories and remove them\n",
    "%mkdir Red"
   ]
  },
  {
   "cell_type": "code",
   "execution_count": null,
   "metadata": {},
   "outputs": [],
   "source": [
    "# Now we can check if the directory is there\n",
    "ls"
   ]
  },
  {
   "cell_type": "code",
   "execution_count": null,
   "metadata": {
    "collapsed": true
   },
   "outputs": [],
   "source": [
    "%rmdir Red"
   ]
  },
  {
   "cell_type": "code",
   "execution_count": null,
   "metadata": {},
   "outputs": [],
   "source": [
    "%ls"
   ]
  },
  {
   "cell_type": "markdown",
   "metadata": {},
   "source": [
    "## Opening and Reading a Text File\n",
    "\n",
    "Once we know where a file is we can open it. Here we will get some text online and copy it to a text file for use.\n",
    "\n",
    "* Get some text from [Project Gutenberg version of Plato's Phaedrus](https://www.gutenberg.org/ebooks/1636)\n",
    "* Create a text file in Jupyter, paste it in, and save it.\n",
    "* Check that the file is there.\n",
    "\n",
    "Here is some code to load text."
   ]
  },
  {
   "cell_type": "code",
   "execution_count": null,
   "metadata": {},
   "outputs": [],
   "source": [
    "# This is the prefered way to open a file and read the text into a variable.\n",
    "with open(\"StoryOfWriting.txt\", \"r\") as file:\n",
    "    theStory = file.read()\n",
    "    \n",
    "# And we can check what we got.\n",
    "theStory[:100]"
   ]
  },
  {
   "cell_type": "markdown",
   "metadata": {},
   "source": [
    "This uses a ```with ... as ...``` context manager. For more see [With Statement Context Managers](https://docs.python.org/3/reference/datamodel.html#context-managers). It does the same as opening a file, reading it, and then closing it, but safely."
   ]
  },
  {
   "cell_type": "code",
   "execution_count": null,
   "metadata": {},
   "outputs": [],
   "source": [
    "# A simpler way of doing it, but not as safe.\n",
    "file2Open = open('StoryOfWriting.txt', \"r\")\n",
    "theStory = file2Open.read()\n",
    "file2Open.close()\n",
    "theStory[:100]"
   ]
  },
  {
   "cell_type": "markdown",
   "metadata": {},
   "source": [
    "## Getting a file from the web\n",
    "\n",
    "We don't have to only get text files from the file system. We can also retrieve them from the web."
   ]
  },
  {
   "cell_type": "code",
   "execution_count": null,
   "metadata": {},
   "outputs": [],
   "source": [
    "# We start by importing a module that can make requests over the web.\n",
    "import urllib.request\n",
    "\n",
    "# We provide the URL and path for the document we want.\n",
    "path = 'http://www.gutenberg.org/cache/epub/1636/pg1636.txt'\n",
    "\n",
    "# We now use a control \n",
    "with urllib.request.urlopen(path) as response:\n",
    "    fullDialogue = response.read().decode('utf-8')\n",
    "    \n",
    "# We print out the first 100 characters to check.\n",
    "print(fullDialogue[:100])"
   ]
  },
  {
   "cell_type": "markdown",
   "metadata": {},
   "source": [
    "**Note** how we have two methods concatenated. We ```read()``` the response and then ```decode()``` it to UTF-8."
   ]
  },
  {
   "cell_type": "markdown",
   "metadata": {},
   "source": [
    "## Doing things to the resulting text\n",
    "\n",
    "Now we can do somethings to the dialogue."
   ]
  },
  {
   "cell_type": "code",
   "execution_count": null,
   "metadata": {},
   "outputs": [],
   "source": [
    "fullDialogue"
   ]
  },
  {
   "cell_type": "code",
   "execution_count": null,
   "metadata": {
    "collapsed": true
   },
   "outputs": [],
   "source": [
    "# Note how much nicer is the scrolling field when you print it!\n",
    "print(fullDialogue)"
   ]
  },
  {
   "cell_type": "code",
   "execution_count": null,
   "metadata": {
    "collapsed": true
   },
   "outputs": [],
   "source": [
    "# Get the length in characters\n",
    "len(fullDialogue)"
   ]
  },
  {
   "cell_type": "code",
   "execution_count": null,
   "metadata": {},
   "outputs": [],
   "source": [
    "fullDialogue.count(\"truth\")"
   ]
  },
  {
   "cell_type": "code",
   "execution_count": null,
   "metadata": {},
   "outputs": [],
   "source": [
    "fullDialogue[10700:10800]"
   ]
  },
  {
   "cell_type": "code",
   "execution_count": null,
   "metadata": {},
   "outputs": [],
   "source": [
    "fullDialogue.find(\"truth\")"
   ]
  },
  {
   "cell_type": "markdown",
   "metadata": {},
   "source": [
    "**Question** How can we cut out only the dialogue?"
   ]
  },
  {
   "cell_type": "code",
   "execution_count": null,
   "metadata": {},
   "outputs": [],
   "source": [
    "fullDialogue.find(\"SOCRATES: My dear Phaedrus, whence come you, and whither are you going?\")"
   ]
  },
  {
   "cell_type": "markdown",
   "metadata": {},
   "source": [
    "### Questions\n",
    "\n",
    "* What other sorts of data do we want to be able to load?\n",
    "    * How might we do it?\n",
    "* Where can you get data?"
   ]
  },
  {
   "cell_type": "markdown",
   "metadata": {},
   "source": [
    "----\n",
    "# Exercise: Concatenating Text\n",
    "\n",
    "Can you create a single text from a set of web pages? \n",
    "* Google some interesting subject that you want to study\n",
    "* Collect a set of at least 5 URLs that have interesting content on your subject\n",
    "* Write a notebook that goes to each of those pages and gets the text\n",
    "* Then concatenate the texts into one variable\n",
    "* Count the number of characters\n",
    "\n",
    "\n",
    "## Optional\n",
    "\n",
    "Can you figure out how to write the concatenated file out to a text file for later use."
   ]
  },
  {
   "cell_type": "code",
   "execution_count": null,
   "metadata": {
    "collapsed": true
   },
   "outputs": [],
   "source": []
  }
 ],
 "metadata": {
  "kernelspec": {
   "display_name": "Python 3",
   "language": "python",
   "name": "python3"
  },
  "language_info": {
   "codemirror_mode": {
    "name": "ipython",
    "version": 3
   },
   "file_extension": ".py",
   "mimetype": "text/x-python",
   "name": "python",
   "nbconvert_exporter": "python",
   "pygments_lexer": "ipython3",
   "version": "3.6.1"
  }
 },
 "nbformat": 4,
 "nbformat_minor": 2
}

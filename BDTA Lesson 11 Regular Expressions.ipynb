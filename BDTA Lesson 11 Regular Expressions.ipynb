{
 "cells": [
  {
   "cell_type": "markdown",
   "metadata": {},
   "source": [
    "# BDTA Lesson 11 Regular Expressions\n",
    "\n",
    "This notebook introduces regular expressions.\n",
    "\n",
    "Some links:\n",
    "\n",
    "* [The Python Documentation](https://docs.python.org/3/library/re.html)\n",
    "* [Tutorialspoint Tutorial](https://www.tutorialspoint.com/python3/python_reg_expressions.htm)\n",
    "* [RegEx One Tutorial](https://regexone.com/references/python)"
   ]
  },
  {
   "cell_type": "code",
   "execution_count": 5,
   "metadata": {
    "collapsed": true
   },
   "outputs": [],
   "source": [
    "import re"
   ]
  },
  {
   "cell_type": "code",
   "execution_count": 72,
   "metadata": {
    "collapsed": true
   },
   "outputs": [],
   "source": [
    "test = '''<html>\n",
    "<head>\n",
    "<title>An example text for regular expressions</title>\n",
    "</head>\n",
    "<body>\n",
    "<p>Here is an example of a using <i>regular expressions.</i> This example\n",
    "shows how you can do different things with regular expressions. Don't be shy to try them.</p>\n",
    "\n",
    "<p>Some of the difficulties that we can have are finding and tokenizing hyphenated words \n",
    "like tip-off and long-term.</p>\n",
    "\n",
    "<p>Here are some dates: 1987, 1990, 1389, 2017 and 2027.</p>\n",
    "\n",
    "<p>Here are some words that are similar woman, women, ...</p>\n",
    "\n",
    "<p>Prepared 2017.10.15</p>\n",
    "</body>\n",
    "</html>'''"
   ]
  },
  {
   "cell_type": "code",
   "execution_count": 21,
   "metadata": {},
   "outputs": [
    {
     "name": "stdout",
     "output_type": "stream",
     "text": [
      "<_sre.SRE_Match object; span=(400, 404), match='1987'>\n"
     ]
    }
   ],
   "source": [
    "match = re.search(r'19..',test)\n",
    "print(match)"
   ]
  },
  {
   "cell_type": "code",
   "execution_count": 24,
   "metadata": {},
   "outputs": [
    {
     "data": {
      "text/plain": [
       "_sre.SRE_Match"
      ]
     },
     "execution_count": 24,
     "metadata": {},
     "output_type": "execute_result"
    }
   ],
   "source": [
    "type(match)"
   ]
  },
  {
   "cell_type": "code",
   "execution_count": 23,
   "metadata": {},
   "outputs": [
    {
     "name": "stdout",
     "output_type": "stream",
     "text": [
      "Found one!\n"
     ]
    }
   ],
   "source": [
    "if re.search(r'19..',test): print(\"Found one!\")"
   ]
  },
  {
   "cell_type": "code",
   "execution_count": 25,
   "metadata": {},
   "outputs": [
    {
     "data": {
      "text/plain": [
       "['<html>',\n",
       " '<head>',\n",
       " '<title>An example text for regular expressions</title>',\n",
       " '</head>',\n",
       " '<body>',\n",
       " '<p>Here is an example of a using <i>regular expressions.</i>',\n",
       " '</p>',\n",
       " '<p>',\n",
       " '</p>',\n",
       " '<p>Here are some dates: 1987, 1990, 1389, 2017 and 2027.</p>',\n",
       " '</body>',\n",
       " '</html>']"
      ]
     },
     "execution_count": 25,
     "metadata": {},
     "output_type": "execute_result"
    }
   ],
   "source": [
    "re.findall(r'<.*>',test)"
   ]
  },
  {
   "cell_type": "code",
   "execution_count": 26,
   "metadata": {},
   "outputs": [
    {
     "data": {
      "text/plain": [
       "['<html>',\n",
       " '<head>',\n",
       " '<title>',\n",
       " '</title>',\n",
       " '</head>',\n",
       " '<body>',\n",
       " '<p>',\n",
       " '<i>',\n",
       " '</i>',\n",
       " '</p>',\n",
       " '<p>',\n",
       " '</p>',\n",
       " '<p>',\n",
       " '</p>',\n",
       " '</body>',\n",
       " '</html>']"
      ]
     },
     "execution_count": 26,
     "metadata": {},
     "output_type": "execute_result"
    }
   ],
   "source": [
    "re.findall(r'<.*?>',test)"
   ]
  },
  {
   "cell_type": "code",
   "execution_count": 38,
   "metadata": {},
   "outputs": [
    {
     "name": "stdout",
     "output_type": "stream",
     "text": [
      "['<p>Here are some dates: 1987, 1990, 1389, 2017 and 2027.</p>']\n"
     ]
    }
   ],
   "source": [
    "results = re.findall(r'<p>.*?</p>',test)\n",
    "print(results)"
   ]
  },
  {
   "cell_type": "code",
   "execution_count": 15,
   "metadata": {},
   "outputs": [
    {
     "name": "stdout",
     "output_type": "stream",
     "text": [
      "\n",
      "\n",
      "\n",
      "\n",
      "\n",
      " This example\n",
      "shows how you can do different things with regular expressions. Don't be shy to try them.\n",
      "\n",
      "Some of the difficulties that we can have are finding and tokenizing hyphenated words \n",
      "like tip-off and long-term.\n",
      "\n",
      "\n",
      "\n",
      "\n"
     ]
    }
   ],
   "source": [
    "results = re.sub(r'<.*>',\"\",test)\n",
    "print(results)"
   ]
  },
  {
   "cell_type": "code",
   "execution_count": 16,
   "metadata": {},
   "outputs": [
    {
     "name": "stdout",
     "output_type": "stream",
     "text": [
      "\n",
      "\n",
      "An example text for regular expressions\n",
      "\n",
      "\n",
      "Here is an example of a using regular expressions. This example\n",
      "shows how you can do different things with regular expressions. Don't be shy to try them.\n",
      "\n",
      "Some of the difficulties that we can have are finding and tokenizing hyphenated words \n",
      "like tip-off and long-term.\n",
      "\n",
      "Here are some dates: 1987, 1389, 2017 and 2027.\n",
      "\n",
      "\n"
     ]
    }
   ],
   "source": [
    "results = re.sub(r'<.*?>',\"\",test)\n",
    "print(results)"
   ]
  },
  {
   "cell_type": "code",
   "execution_count": 39,
   "metadata": {},
   "outputs": [
    {
     "name": "stdout",
     "output_type": "stream",
     "text": [
      "<html><head><title>An example text for regular expressions</title></head><body><p>Here is an example of a using <i>regular expressions.</i> This exampleshows how you can do different things with regular expressions. Don't be shy to try them.</p><p>Some of the difficulties that we can have are finding and tokenizing hyphenated words like tip-off and long-term.</p><p>Here are some dates: 1987, 1990, 1389, 2017 and 2027.</p></body></html>\n"
     ]
    }
   ],
   "source": [
    "results = re.sub(r'\\n',\"\",test)\n",
    "print(results)"
   ]
  },
  {
   "cell_type": "code",
   "execution_count": 45,
   "metadata": {},
   "outputs": [
    {
     "name": "stdout",
     "output_type": "stream",
     "text": [
      "<_sre.SRE_Match object; span=(400, 402), match='19'>\n"
     ]
    }
   ],
   "source": [
    "match = re.search(r'19+',test)\n",
    "print(match)"
   ]
  },
  {
   "cell_type": "code",
   "execution_count": 59,
   "metadata": {},
   "outputs": [
    {
     "data": {
      "text/plain": [
       "['',\n",
       " 'html',\n",
       " 'head',\n",
       " 'title',\n",
       " 'An',\n",
       " 'example',\n",
       " 'text',\n",
       " 'for',\n",
       " 'regular',\n",
       " 'expressions',\n",
       " 'title',\n",
       " 'head',\n",
       " 'body',\n",
       " 'p',\n",
       " 'Here',\n",
       " 'is',\n",
       " 'an',\n",
       " 'example',\n",
       " 'of',\n",
       " 'a',\n",
       " 'using',\n",
       " 'i',\n",
       " 'regular',\n",
       " 'expressions',\n",
       " 'i',\n",
       " 'This',\n",
       " 'example',\n",
       " 'shows',\n",
       " 'how',\n",
       " 'you',\n",
       " 'can',\n",
       " 'do',\n",
       " 'different',\n",
       " 'things',\n",
       " 'with',\n",
       " 'regular',\n",
       " 'expressions',\n",
       " 'Don',\n",
       " 't',\n",
       " 'be',\n",
       " 'shy',\n",
       " 'to',\n",
       " 'try',\n",
       " 'them',\n",
       " 'p',\n",
       " 'p',\n",
       " 'Some',\n",
       " 'of',\n",
       " 'the',\n",
       " 'difficulties',\n",
       " 'that',\n",
       " 'we',\n",
       " 'can',\n",
       " 'have',\n",
       " 'are',\n",
       " 'finding',\n",
       " 'and',\n",
       " 'tokenizing',\n",
       " 'hyphenated',\n",
       " 'words',\n",
       " 'like',\n",
       " 'tip',\n",
       " 'off',\n",
       " 'and',\n",
       " 'long',\n",
       " 'term',\n",
       " 'p',\n",
       " 'p',\n",
       " 'Here',\n",
       " 'are',\n",
       " 'some',\n",
       " 'dates',\n",
       " '1987',\n",
       " '1990',\n",
       " '1389',\n",
       " '2017',\n",
       " 'and',\n",
       " '2027',\n",
       " 'p',\n",
       " 'p',\n",
       " 'Here',\n",
       " 'are',\n",
       " 'some',\n",
       " 'words',\n",
       " 'that',\n",
       " 'look',\n",
       " 'similar',\n",
       " 'woman',\n",
       " 'women',\n",
       " 'body',\n",
       " 'html',\n",
       " '']"
      ]
     },
     "execution_count": 59,
     "metadata": {},
     "output_type": "execute_result"
    }
   ],
   "source": [
    "results = re.split(r'\\W+',test)\n",
    "results"
   ]
  },
  {
   "cell_type": "code",
   "execution_count": 65,
   "metadata": {},
   "outputs": [
    {
     "data": {
      "text/plain": [
       "88"
      ]
     },
     "execution_count": 65,
     "metadata": {},
     "output_type": "execute_result"
    }
   ],
   "source": [
    "results = re.findall(r'\\b(\\w[\\w-]*)\\b',test)\n",
    "len(results)"
   ]
  },
  {
   "cell_type": "code",
   "execution_count": 78,
   "metadata": {},
   "outputs": [
    {
     "name": "stdout",
     "output_type": "stream",
     "text": [
      "['1987', '1990', '1389', '2017', '2027', '2017']\n"
     ]
    }
   ],
   "source": [
    "results = re.findall(r'[12]\\d\\d\\d',test) # [0-9]+ , [0-9][0-9][0-9][0-9]\n",
    "print(results)"
   ]
  },
  {
   "cell_type": "markdown",
   "metadata": {},
   "source": [
    "---\n",
    "## Exercise\n",
    "Can you write regular expressions that will do the following\n",
    "\n",
    "* Extract names (where a name is two words in a row with capital letters)\n",
    "* Extract words with similar endings (like adverbs ending in \"ly\"\n",
    "* Extract dates of different sorts. Try \n",
    "* Tokenize on sentences."
   ]
  }
 ],
 "metadata": {
  "kernelspec": {
   "display_name": "Python 3",
   "language": "python",
   "name": "python3"
  },
  "language_info": {
   "codemirror_mode": {
    "name": "ipython",
    "version": 3
   },
   "file_extension": ".py",
   "mimetype": "text/x-python",
   "name": "python",
   "nbconvert_exporter": "python",
   "pygments_lexer": "ipython3",
   "version": "3.6.1"
  }
 },
 "nbformat": 4,
 "nbformat_minor": 2
}

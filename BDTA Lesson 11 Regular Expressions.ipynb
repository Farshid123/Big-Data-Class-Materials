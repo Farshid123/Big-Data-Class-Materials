{
 "cells": [
  {
   "cell_type": "markdown",
   "metadata": {},
   "source": [
    "# BDTA Lesson 11 Regular Expressions\n",
    "\n",
    "This notebook introduces regular expressions.\n",
    "\n",
    "Some links:\n",
    "\n",
    "* [The Python Documentation](https://docs.python.org/3/library/re.html)\n",
    "* [Tutorialspoint Tutorial](https://www.tutorialspoint.com/python3/python_reg_expressions.htm)\n",
    "* [RegEx One Tutorial](https://regexone.com/references/python)\n",
    "* [RegEx Tester](https://pythex.org/)"
   ]
  },
  {
   "cell_type": "markdown",
   "metadata": {},
   "source": [
    "### Import re library\n",
    "\n",
    "You need to import the regular expression library. We then create a text to play with."
   ]
  },
  {
   "cell_type": "code",
   "execution_count": 1,
   "metadata": {
    "collapsed": true
   },
   "outputs": [],
   "source": [
    "import re"
   ]
  },
  {
   "cell_type": "code",
   "execution_count": 2,
   "metadata": {
    "collapsed": true
   },
   "outputs": [],
   "source": [
    "test = '''<html>\n",
    "<head>\n",
    "<title>An example text for regular expressions</title>\n",
    "</head>\n",
    "<body>\n",
    "<p>Here is an example of a using <i>regular expressions.</i> This example\n",
    "shows how you can do different things with regular expressions. Don't be shy to try them.</p>\n",
    "\n",
    "<p>Some of the difficulties that we can have are finding and tokenizing hyphenated words \n",
    "like tip-off and long-term.</p>\n",
    "\n",
    "<p>Here are some dates: 1987, 1990, 1389, 2017 and 2027.</p>\n",
    "\n",
    "<p>Here are some words that are similar woman, women, ...</p>\n",
    "\n",
    "<p>Prepared 2017.10.15</p>\n",
    "</body>\n",
    "</html>'''"
   ]
  },
  {
   "cell_type": "code",
   "execution_count": null,
   "metadata": {
    "collapsed": true
   },
   "outputs": [],
   "source": [
    "# Search for exact pattern 1990: 19..\n",
    "# Search for truncated pattern: wom.* , wom[a-z]*\n",
    "# Search for variants of words: wom[ae]n\n",
    "# Search for words before/behind: \\w+(?=\\s*that)\n",
    "# Different uses of regex - search, find, replace, strip, "
   ]
  },
  {
   "cell_type": "code",
   "execution_count": 9,
   "metadata": {},
   "outputs": [
    {
     "name": "stdout",
     "output_type": "stream",
     "text": [
      "<_sre.SRE_Match object; span=(268, 280), match='difficulties'>\n"
     ]
    }
   ],
   "source": [
    "matches = re.findall(r'\\w+(?=\\s*that)',test)\n",
    "print(matches)"
   ]
  },
  {
   "cell_type": "code",
   "execution_count": 24,
   "metadata": {},
   "outputs": [
    {
     "data": {
      "text/plain": [
       "_sre.SRE_Match"
      ]
     },
     "execution_count": 24,
     "metadata": {},
     "output_type": "execute_result"
    }
   ],
   "source": [
    "type(match)"
   ]
  },
  {
   "cell_type": "markdown",
   "metadata": {},
   "source": [
    "### Using a regex in an if statement"
   ]
  },
  {
   "cell_type": "code",
   "execution_count": 11,
   "metadata": {
    "collapsed": true
   },
   "outputs": [],
   "source": [
    "if re.search(r'hermeneutics',test): print(\"Found one!\")"
   ]
  },
  {
   "cell_type": "markdown",
   "metadata": {},
   "source": [
    "### Using to find tags\n",
    "\n",
    "Note how regex is \"hungry\"."
   ]
  },
  {
   "cell_type": "code",
   "execution_count": 12,
   "metadata": {},
   "outputs": [
    {
     "data": {
      "text/plain": [
       "['<html>',\n",
       " '<head>',\n",
       " '<title>An example text for regular expressions</title>',\n",
       " '</head>',\n",
       " '<body>',\n",
       " '<p>Here is an example of a using <i>regular expressions.</i>',\n",
       " '</p>',\n",
       " '<p>',\n",
       " '</p>',\n",
       " '<p>Here are some dates: 1987, 1990, 1389, 2017 and 2027.</p>',\n",
       " '<p>Here are some words that are similar woman, women, ...</p>',\n",
       " '<p>Prepared 2017.10.15</p>',\n",
       " '</body>',\n",
       " '</html>']"
      ]
     },
     "execution_count": 12,
     "metadata": {},
     "output_type": "execute_result"
    }
   ],
   "source": [
    "re.findall(r'<.*>',test)"
   ]
  },
  {
   "cell_type": "code",
   "execution_count": 13,
   "metadata": {},
   "outputs": [
    {
     "data": {
      "text/plain": [
       "['<html>',\n",
       " '<head>',\n",
       " '<title>',\n",
       " '</title>',\n",
       " '</head>',\n",
       " '<body>',\n",
       " '<p>',\n",
       " '<i>',\n",
       " '</i>',\n",
       " '</p>',\n",
       " '<p>',\n",
       " '</p>',\n",
       " '<p>',\n",
       " '</p>',\n",
       " '<p>',\n",
       " '</p>',\n",
       " '<p>',\n",
       " '</p>',\n",
       " '</body>',\n",
       " '</html>']"
      ]
     },
     "execution_count": 13,
     "metadata": {},
     "output_type": "execute_result"
    }
   ],
   "source": [
    "re.findall(r'<.*?>',test)"
   ]
  },
  {
   "cell_type": "markdown",
   "metadata": {},
   "source": [
    "### Using to strip out tags\n",
    "\n",
    "We don't have to use *findall*, we can use other methods like *sub* to substitute."
   ]
  },
  {
   "cell_type": "code",
   "execution_count": 14,
   "metadata": {},
   "outputs": [
    {
     "name": "stdout",
     "output_type": "stream",
     "text": [
      "\n",
      "\n",
      "An example text for regular expressions\n",
      "\n",
      "\n",
      "Here is an example of a using regular expressions. This example\n",
      "shows how you can do different things with regular expressions. Don't be shy to try them.\n",
      "\n",
      "Some of the difficulties that we can have are finding and tokenizing hyphenated words \n",
      "like tip-off and long-term.\n",
      "\n",
      "Here are some dates: 1987, 1990, 1389, 2017 and 2027.\n",
      "\n",
      "Here are some words that are similar woman, women, ...\n",
      "\n",
      "Prepared 2017.10.15\n",
      "\n",
      "\n"
     ]
    }
   ],
   "source": [
    "results = re.sub(r'<.*?>',\"\",test)\n",
    "print(results)"
   ]
  },
  {
   "cell_type": "markdown",
   "metadata": {},
   "source": [
    "Here we pull an element."
   ]
  },
  {
   "cell_type": "code",
   "execution_count": 107,
   "metadata": {},
   "outputs": [
    {
     "name": "stdout",
     "output_type": "stream",
     "text": [
      "['<p>Here are some dates: 1987, 1990, 1389, 2017 and 2027.</p>', '<p>Here are some words that are similar woman, women, ...</p>', '<p>Prepared 2017.10.15</p>']\n"
     ]
    }
   ],
   "source": [
    "results = re.findall(r'<p>.*?</p>',test)\n",
    "print(results)"
   ]
  },
  {
   "cell_type": "markdown",
   "metadata": {},
   "source": [
    "Here we remove newlines."
   ]
  },
  {
   "cell_type": "code",
   "execution_count": 39,
   "metadata": {},
   "outputs": [
    {
     "name": "stdout",
     "output_type": "stream",
     "text": [
      "<html><head><title>An example text for regular expressions</title></head><body><p>Here is an example of a using <i>regular expressions.</i> This exampleshows how you can do different things with regular expressions. Don't be shy to try them.</p><p>Some of the difficulties that we can have are finding and tokenizing hyphenated words like tip-off and long-term.</p><p>Here are some dates: 1987, 1990, 1389, 2017 and 2027.</p></body></html>\n"
     ]
    }
   ],
   "source": [
    "results = re.sub(r'\\n',\"\",test)\n",
    "print(results)"
   ]
  },
  {
   "cell_type": "markdown",
   "metadata": {},
   "source": [
    "Here we search for date like objects."
   ]
  },
  {
   "cell_type": "code",
   "execution_count": 109,
   "metadata": {},
   "outputs": [
    {
     "name": "stdout",
     "output_type": "stream",
     "text": [
      "['1987', '1990']\n"
     ]
    }
   ],
   "source": [
    "match = re.findall(r'19..',test)\n",
    "print(match)"
   ]
  },
  {
   "cell_type": "code",
   "execution_count": 78,
   "metadata": {},
   "outputs": [
    {
     "name": "stdout",
     "output_type": "stream",
     "text": [
      "['1987', '1990', '1389', '2017', '2027', '2017']\n"
     ]
    }
   ],
   "source": [
    "results = re.findall(r'[12]\\d\\d\\d',test) # [0-9]+ , [0-9][0-9][0-9][0-9]\n",
    "print(results)"
   ]
  },
  {
   "cell_type": "markdown",
   "metadata": {},
   "source": [
    "We can also use this to tokenize with the split method."
   ]
  },
  {
   "cell_type": "code",
   "execution_count": 111,
   "metadata": {},
   "outputs": [
    {
     "data": {
      "text/plain": [
       "99"
      ]
     },
     "execution_count": 111,
     "metadata": {},
     "output_type": "execute_result"
    }
   ],
   "source": [
    "results = re.split(r'\\W+',test)\n",
    "results[:5]\n",
    "len(results)"
   ]
  },
  {
   "cell_type": "code",
   "execution_count": 65,
   "metadata": {},
   "outputs": [
    {
     "data": {
      "text/plain": [
       "88"
      ]
     },
     "execution_count": 65,
     "metadata": {},
     "output_type": "execute_result"
    }
   ],
   "source": [
    "results = re.findall(r'\\b(\\w[\\w-]*)\\b',test)\n",
    "len(results)"
   ]
  },
  {
   "cell_type": "markdown",
   "metadata": {},
   "source": [
    "---\n",
    "## Exercise\n",
    "Can you write regular expressions that will do the following\n",
    "\n",
    "* Extract words with similar endings (like adverbs ending in \"ly\"\n",
    "* Extract dates of different sorts.\n",
    "* Convert contractions like \"don't\" into \"do not\"\n",
    "* Extract acronyms\n",
    "\n",
    "**Optional**\n",
    "* Extract the word after another word like \"that\"\n",
    "* Extract names (where a name is two words in a row with capital letters)\n",
    "* Tokenize on sentences."
   ]
  },
  {
   "cell_type": "markdown",
   "metadata": {},
   "source": [
    "---\n",
    "## Homework\n",
    "Create a notebook that gets, cleans up and tokenizes a web page *using regular expressions*. Try to do the following:\n",
    "* Strip out the tags\n",
    "* Strip out any excess newlines (\\n)\n",
    "* Convert contractions\n",
    "* Deal with hyphenated words\n",
    "\n",
    "**Optional**\n",
    "Can you find a way to extract useful information about the web page like:\n",
    "* List of tags\n",
    "* List of links\n",
    "* Any dates and names\n",
    "* Any acronyms\n"
   ]
  },
  {
   "cell_type": "code",
   "execution_count": null,
   "metadata": {
    "collapsed": true
   },
   "outputs": [],
   "source": []
  }
 ],
 "metadata": {
  "kernelspec": {
   "display_name": "Python 3",
   "language": "python",
   "name": "python3"
  },
  "language_info": {
   "codemirror_mode": {
    "name": "ipython",
    "version": 3
   },
   "file_extension": ".py",
   "mimetype": "text/x-python",
   "name": "python",
   "nbconvert_exporter": "python",
   "pygments_lexer": "ipython3",
   "version": "3.6.1"
  }
 },
 "nbformat": 4,
 "nbformat_minor": 2
}

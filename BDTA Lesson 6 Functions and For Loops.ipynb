{
 "cells": [
  {
   "cell_type": "markdown",
   "metadata": {},
   "source": [
    "# BDTA Lesson 6: Functions and For Loops\n",
    "\n",
    "We are now going to learn how to create functions and loops. We will do this in order to create a simple concording tool.\n",
    "\n",
    "This uses the [Project Gutenberg version of Plato's Phaedrus](https://www.gutenberg.org/ebooks/1636)."
   ]
  },
  {
   "cell_type": "markdown",
   "metadata": {},
   "source": [
    "## Getting the text\n",
    "\n",
    "First, we have to get the text."
   ]
  },
  {
   "cell_type": "code",
   "execution_count": null,
   "metadata": {},
   "outputs": [],
   "source": [
    "import urllib.request\n",
    "path = 'http://www.gutenberg.org/cache/epub/1636/pg1636.txt'\n",
    "with urllib.request.urlopen(path) as response:\n",
    "    fullDialogue = response.read().decode('utf-8')\n",
    "print(fullDialogue[:100])"
   ]
  },
  {
   "cell_type": "markdown",
   "metadata": {},
   "source": [
    "**Question**\n",
    "\n",
    "How can we see all the instances? We can use the methods we learned before to find an instance. We could manual work our way through."
   ]
  },
  {
   "cell_type": "code",
   "execution_count": null,
   "metadata": {},
   "outputs": [],
   "source": [
    "fullDialogue.find(\"truth\")"
   ]
  },
  {
   "cell_type": "code",
   "execution_count": null,
   "metadata": {},
   "outputs": [],
   "source": [
    "fullDialogue.count(\"truth\")"
   ]
  },
  {
   "cell_type": "code",
   "execution_count": null,
   "metadata": {},
   "outputs": [],
   "source": [
    "fullDialogue[10700:10800]"
   ]
  },
  {
   "cell_type": "code",
   "execution_count": null,
   "metadata": {},
   "outputs": [],
   "source": [
    "# Here we specify that we want to search starting with the location after the last instance.\n",
    "fullDialogue.find(\"truth\",10746)"
   ]
  },
  {
   "cell_type": "markdown",
   "metadata": {},
   "source": [
    "# Functions\n",
    "\n",
    "We need to construct our own Functions to avoid repeating ourselves. Here is how to construct a Funciton:\n",
    "\n",
    "```def <functionname>( <parameters> ):\n",
    "    series of statements that do something\n",
    "    return [expression]```"
   ]
  },
  {
   "cell_type": "markdown",
   "metadata": {},
   "source": [
    "Here is a simple function. We define it once and can then call it in different ways."
   ]
  },
  {
   "cell_type": "code",
   "execution_count": null,
   "metadata": {},
   "outputs": [],
   "source": [
    "# Here we define a function that will print \"Hello\" and a name.\n",
    "def printHello(name):\n",
    "    print(\"Hello \" + name + \"!\")\n",
    "\n",
    "# We use a new function, input(), to get the name to say hello to.\n",
    "name2Get = input(\"What is your name? \")\n",
    "printHello(name2Get)"
   ]
  },
  {
   "cell_type": "markdown",
   "metadata": {},
   "source": [
    "Now we create a function that will give us a context of text around an index where the word was found."
   ]
  },
  {
   "cell_type": "code",
   "execution_count": null,
   "metadata": {},
   "outputs": [],
   "source": [
    "# Here we define the function.\n",
    "def pullText(index,what): # This takes two parameters, the index for the word and the text (what) to take it from\n",
    "    leftInd = index - 50\n",
    "    rightInd = index + 50\n",
    "    theFound = what[leftInd:rightInd]\n",
    "    return theFound\n",
    "\n",
    "# Lets test the function\n",
    "print(pullText(10745,fullDialogue))"
   ]
  },
  {
   "cell_type": "markdown",
   "metadata": {},
   "source": [
    "**Question**\n",
    "How can we improve the function?"
   ]
  },
  {
   "cell_type": "code",
   "execution_count": null,
   "metadata": {},
   "outputs": [],
   "source": [
    "def pullText2(index,what):\n",
    "    leftInd = index - 50\n",
    "    rightInd = index + 50\n",
    "    theFound = what[leftInd:rightInd].replace(\"\\r\\n\",\" \")\n",
    "    return theFound\n",
    "\n",
    "print(pullText2(10745,fullDialogue))"
   ]
  },
  {
   "cell_type": "markdown",
   "metadata": {},
   "source": [
    "## Control flow (for ...)\n",
    "\n",
    "Now we are going to learn one of a number of ways of controlling flow in a program. The first we will learn is ```for ... loop```. Here is a simple example."
   ]
  },
  {
   "cell_type": "code",
   "execution_count": null,
   "metadata": {},
   "outputs": [],
   "source": [
    "for say in range(3):\n",
    "    print(\"Hello\")"
   ]
  },
  {
   "cell_type": "markdown",
   "metadata": {},
   "source": [
    "We can use the loop to do things to lists. We will use this a lot later."
   ]
  },
  {
   "cell_type": "code",
   "execution_count": null,
   "metadata": {},
   "outputs": [],
   "source": [
    "names2Salute = [\"Mary\",\"Margaret\",\"Meredith\"] # Here is a list\n",
    "\n",
    "# Here is the function from above.\n",
    "def printHello(name):\n",
    "    print(\"Hello \" + name + \"!\")\n",
    "\n",
    "# Here is the loop. It uses the function above printHello()\n",
    "for theName in names2Salute:\n",
    "    printHello(theName)"
   ]
  },
  {
   "cell_type": "markdown",
   "metadata": {},
   "source": [
    "Now we can begin to build our concordance builder. First we can test if we can do something over and over."
   ]
  },
  {
   "cell_type": "code",
   "execution_count": null,
   "metadata": {
    "collapsed": true
   },
   "outputs": [],
   "source": [
    "# This gives us the number of instances of the word \"truth\"\n",
    "theCount = range(fullDialogue.count(\"truth\"))\n",
    "\n",
    "for instance in theCount:\n",
    "    print(str(instance))"
   ]
  },
  {
   "cell_type": "markdown",
   "metadata": {},
   "source": [
    "Now we combine our function from above with a loop that advances through the text."
   ]
  },
  {
   "cell_type": "code",
   "execution_count": null,
   "metadata": {},
   "outputs": [],
   "source": [
    "# We start by asking what work you want a concordance for. Note that we lower case it.\n",
    "word2find = input(\"What word do you want a concordance for? \").lower()\n",
    "theRange = range(fullDialogue.count(word2find)) # We get the range for this word\n",
    "\n",
    "# Now we create a variable to hold our location as we work through and we set it to 0.\n",
    "theLocation = 0\n",
    "\n",
    "# Here is the loop that goes through the text\n",
    "for instance in theRange:\n",
    "    # Here we call our function with the updated location and print out the context\n",
    "    print(pullText2(theLocation,fullDialogue))\n",
    "    # Now we update the location so the next iteration returns the next instance\n",
    "    theLocation = fullDialogue.find(word2find,theLocation) + 1"
   ]
  },
  {
   "cell_type": "markdown",
   "metadata": {},
   "source": [
    "**Questions**\n",
    "* How can we improve this? What will it not catch?\n",
    "* What else can you imagine we could do?"
   ]
  },
  {
   "cell_type": "markdown",
   "metadata": {
    "collapsed": true
   },
   "source": [
    "----\n",
    "# Exercise: \n",
    "\n",
    "Add to your previous notebook that builds a corpus from the web the code to be able to explore the text and get a concordance for any word. Can you figure out how to find instances of the word that are capitalized?\n",
    "\n",
    "Can you add code that will give us the top 10 words?\n",
    "\n",
    "## Optional extra\n",
    "\n",
    "Can you save the concordances with names reflecting the word they are a concordance for?"
   ]
  },
  {
   "cell_type": "code",
   "execution_count": null,
   "metadata": {
    "collapsed": true
   },
   "outputs": [],
   "source": []
  }
 ],
 "metadata": {
  "kernelspec": {
   "display_name": "Python 3",
   "language": "python",
   "name": "python3"
  },
  "language_info": {
   "codemirror_mode": {
    "name": "ipython",
    "version": 3
   },
   "file_extension": ".py",
   "mimetype": "text/x-python",
   "name": "python",
   "nbconvert_exporter": "python",
   "pygments_lexer": "ipython3",
   "version": "3.6.1"
  }
 },
 "nbformat": 4,
 "nbformat_minor": 2
}

{
 "cells": [
  {
   "cell_type": "markdown",
   "metadata": {},
   "source": [
    "# BDTA Lesson 6: Functions and For Loops\n",
    "\n",
    "We are now going to learn how to create functions and loops. We will do this in order to create a simple concording tool.\n",
    "\n",
    "This uses the [Project Gutenberg version of Plato's Phaedrus](https://www.gutenberg.org/ebooks/1636)."
   ]
  },
  {
   "cell_type": "markdown",
   "metadata": {},
   "source": [
    "## Getting the text\n",
    "\n",
    "First, we have to get the text."
   ]
  },
  {
   "cell_type": "code",
   "execution_count": 1,
   "metadata": {},
   "outputs": [
    {
     "name": "stdout",
     "output_type": "stream",
     "text": [
      "﻿The Project Gutenberg EBook of Phaedrus, by Plato\r\n",
      "\r\n",
      "This eBook is for the use of anyone anywhere a\n"
     ]
    }
   ],
   "source": [
    "import urllib.request\n",
    "path = 'http://www.gutenberg.org/cache/epub/1636/pg1636.txt'\n",
    "with urllib.request.urlopen(path) as response:\n",
    "    fullDialogue = response.read().decode('utf-8')\n",
    "print(fullDialogue[:100])"
   ]
  },
  {
   "cell_type": "markdown",
   "metadata": {},
   "source": [
    "**Question**\n",
    "\n",
    "How can we see all the instances? We can use the methods we learned before to find an instance. We could manual work our way through."
   ]
  },
  {
   "cell_type": "code",
   "execution_count": 2,
   "metadata": {},
   "outputs": [
    {
     "data": {
      "text/plain": [
       "10745"
      ]
     },
     "execution_count": 2,
     "metadata": {},
     "output_type": "execute_result"
    }
   ],
   "source": [
    "fullDialogue.find(\"truth\")"
   ]
  },
  {
   "cell_type": "code",
   "execution_count": 3,
   "metadata": {},
   "outputs": [
    {
     "data": {
      "text/plain": [
       "92"
      ]
     },
     "execution_count": 3,
     "metadata": {},
     "output_type": "execute_result"
    }
   ],
   "source": [
    "fullDialogue.count(\"truth\")"
   ]
  },
  {
   "cell_type": "code",
   "execution_count": null,
   "metadata": {
    "collapsed": true
   },
   "outputs": [],
   "source": [
    "fullDialogue[10700:10800]"
   ]
  },
  {
   "cell_type": "code",
   "execution_count": null,
   "metadata": {
    "collapsed": true
   },
   "outputs": [],
   "source": [
    "# Here we specify that we want to search starting with the location after the last instance.\n",
    "fullDialogue.find(\"truth\",10746)"
   ]
  },
  {
   "cell_type": "markdown",
   "metadata": {},
   "source": [
    "# Functions\n",
    "\n",
    "We need to construct our own Functions to avoid repeating ourselves. Here is how to construct a Funciton:\n",
    "\n",
    "```def <functionname>( <parameters> ):\n",
    "    series of statements that do something\n",
    "    return [expression]```"
   ]
  },
  {
   "cell_type": "markdown",
   "metadata": {},
   "source": [
    "Here is a simple function. We define it once and can then call it in different ways."
   ]
  },
  {
   "cell_type": "code",
   "execution_count": 5,
   "metadata": {},
   "outputs": [
    {
     "name": "stdout",
     "output_type": "stream",
     "text": [
      "What is your name? Geoffrey\n",
      "Hello Geoffrey!\n"
     ]
    }
   ],
   "source": [
    "# Here we define a function that will print \"Hello\" and a name.\n",
    "def printHello(name):\n",
    "    print(\"Hello \" + name + \"!\")\n",
    "\n",
    "# We use a new function, input(), to get the name to say hello to.\n",
    "name2Get = input(\"What is your name? \")\n",
    "printHello(name2Get)"
   ]
  },
  {
   "cell_type": "markdown",
   "metadata": {},
   "source": [
    "Now we create a function that will give us a context of text around an index where the word was found."
   ]
  },
  {
   "cell_type": "code",
   "execution_count": 6,
   "metadata": {},
   "outputs": [
    {
     "name": "stdout",
     "output_type": "stream",
     "text": [
      "h contention, to turn away and leave the plain of truth. But if\r\n",
      "the soul has followed in the train \n"
     ]
    }
   ],
   "source": [
    "# Here we define the function.\n",
    "def pullText(index,what): # This takes two parameters, the index for the word and the text (what) to take it from\n",
    "    leftInd = index - 50\n",
    "    rightInd = index + 50\n",
    "    theFound = what[leftInd:rightInd]\n",
    "    return theFound\n",
    "\n",
    "# Lets test the function\n",
    "print(pullText(10745,fullDialogue))"
   ]
  },
  {
   "cell_type": "markdown",
   "metadata": {},
   "source": [
    "**Question**\n",
    "How can we improve the function?"
   ]
  },
  {
   "cell_type": "code",
   "execution_count": 7,
   "metadata": {},
   "outputs": [
    {
     "name": "stdout",
     "output_type": "stream",
     "text": [
      "h contention, to turn away and leave the plain of truth. But if the soul has followed in the train \n"
     ]
    }
   ],
   "source": [
    "def pullText2(index,what):\n",
    "    leftInd = index - 50\n",
    "    rightInd = index + 50\n",
    "    theFound = what[leftInd:rightInd].replace(\"\\r\\n\",\" \")\n",
    "    return theFound\n",
    "\n",
    "print(pullText2(10745,fullDialogue))"
   ]
  },
  {
   "cell_type": "markdown",
   "metadata": {},
   "source": [
    "## Control flow (for ...)\n",
    "\n",
    "Now we are going to learn one of a number of ways of controlling flow in a program. The first we will learn is ```for ... loop```. Here is a simple example."
   ]
  },
  {
   "cell_type": "code",
   "execution_count": 9,
   "metadata": {},
   "outputs": [
    {
     "name": "stdout",
     "output_type": "stream",
     "text": [
      "Hello\n",
      "Hello\n",
      "Hello\n"
     ]
    }
   ],
   "source": [
    "for hello in range(3):\n",
    "    print(\"Hello\")"
   ]
  },
  {
   "cell_type": "markdown",
   "metadata": {},
   "source": [
    "We can use the loop to do things to lists. We will use this a lot later."
   ]
  },
  {
   "cell_type": "code",
   "execution_count": 10,
   "metadata": {},
   "outputs": [
    {
     "name": "stdout",
     "output_type": "stream",
     "text": [
      "Hello Mary!\n",
      "Hello Margaret!\n",
      "Hello Meredith!\n"
     ]
    }
   ],
   "source": [
    "names2Salute = [\"Mary\",\"Margaret\",\"Meredith\"] # Here is a list\n",
    "\n",
    "# Here is the function from above.\n",
    "def printHello(name):\n",
    "    print(\"Hello \" + name + \"!\")\n",
    "\n",
    "# Here is the loop. It uses the function above printHello()\n",
    "for theName in names2Salute:\n",
    "    printHello(theName)"
   ]
  },
  {
   "cell_type": "markdown",
   "metadata": {},
   "source": [
    "Now we can begin to build our concordance builder. First we can test if we can do something over and over."
   ]
  },
  {
   "cell_type": "code",
   "execution_count": 11,
   "metadata": {},
   "outputs": [
    {
     "name": "stdout",
     "output_type": "stream",
     "text": [
      "0\n",
      "1\n",
      "2\n",
      "3\n",
      "4\n",
      "5\n",
      "6\n",
      "7\n",
      "8\n",
      "9\n",
      "10\n",
      "11\n",
      "12\n",
      "13\n",
      "14\n",
      "15\n",
      "16\n",
      "17\n",
      "18\n",
      "19\n",
      "20\n",
      "21\n",
      "22\n",
      "23\n",
      "24\n",
      "25\n",
      "26\n",
      "27\n",
      "28\n",
      "29\n",
      "30\n",
      "31\n",
      "32\n",
      "33\n",
      "34\n",
      "35\n",
      "36\n",
      "37\n",
      "38\n",
      "39\n",
      "40\n",
      "41\n",
      "42\n",
      "43\n",
      "44\n",
      "45\n",
      "46\n",
      "47\n",
      "48\n",
      "49\n",
      "50\n",
      "51\n",
      "52\n",
      "53\n",
      "54\n",
      "55\n",
      "56\n",
      "57\n",
      "58\n",
      "59\n",
      "60\n",
      "61\n",
      "62\n",
      "63\n",
      "64\n",
      "65\n",
      "66\n",
      "67\n",
      "68\n",
      "69\n",
      "70\n",
      "71\n",
      "72\n",
      "73\n",
      "74\n",
      "75\n",
      "76\n",
      "77\n",
      "78\n",
      "79\n",
      "80\n",
      "81\n",
      "82\n",
      "83\n",
      "84\n",
      "85\n",
      "86\n",
      "87\n",
      "88\n",
      "89\n",
      "90\n",
      "91\n"
     ]
    }
   ],
   "source": [
    "# This gives us the number of instances of the word \"truth\"\n",
    "theCount = range(fullDialogue.count(\"truth\"))\n",
    "\n",
    "for instance in theCount:\n",
    "    print(str(instance))"
   ]
  },
  {
   "cell_type": "markdown",
   "metadata": {},
   "source": [
    "Now we combine our function from above with a loop that advances through the text."
   ]
  },
  {
   "cell_type": "code",
   "execution_count": 12,
   "metadata": {},
   "outputs": [
    {
     "name": "stdout",
     "output_type": "stream",
     "text": [
      "What word do you want a concordance for? truth\n",
      "\n",
      " contention, to turn away and leave the plain of truth. But if the soul has followed in the train o\n",
      "followed in the train of her god and once beheld truth she is preserved from harm, and is carried r\n",
      "; and if always following, and always seeing the truth, is then for ever unharmed. If, however, she\n",
      "of man, and the soul which has seen most of the truth passes into a philosopher or lover; that whic\n",
      "nto a philosopher or lover; that which has seen truth in the second degree, into a king or warrior;\n",
      "ll only be taken by the soul which has once seen truth and acquired some conception of the universa\n",
      "sights of justice and wisdom and temperance and truth which she once gazed upon in heaven. Then she\n",
      "t rule of good speaking is to know and speak the truth; as a Spartan proverb says, 'true art is tru\n",
      " truth; as a Spartan proverb says, 'true art is truth'; whereas rhetoric is an art of enchantment,\n",
      "eristic of Zeno. But it is not wholly devoid of truth. Superior knowledge enables us to deceive ano\n",
      "e therefore that even in rhetoric an element of truth is required. For if we do not know the truth,\n",
      "of truth is required. For if we do not know the truth, we can neither make the gradual departures \n",
      "we can neither make the gradual departures from truth by which men are most easily deceived, nor g\n",
      "rt who maintain probability to be stronger than truth. But we maintain that probability is engende\n",
      "at probability is engendered by likeness of the truth which can only be attained by the knowledge \n",
      "atter is just this,--that until a man knows the truth, and the manner of adapting the truth to the \n",
      "knows the truth, and the manner of adapting the truth to the natures of other men, he cannot be a \n",
      "ten word, and that the principles of justice and truth when delivered by word of mouth are the legi\n",
      "he Phaedrus treated of love or rhetoric. But the truth is that Plato subjects himself to no rule of\n",
      "ther the art of persuasion nor knowledge of the truth alone, but the art of persuasion founded on \n",
      "t the art of persuasion founded on knowledge of truth and knowledge of character; fifthly, the sup\n",
      "Even in the speech of Lysias there is a germ of truth, and this is further developed in the parall\n",
      "is evidently trying to express an aspect of the truth. To understand him, we must make abstraction\n",
      "t losing the ideals of justice and holiness and truth, but renewing them at the fountain of light. \n",
      "eing, in which they saw justice and holiness and truth, not according to the imperfect copies of th\n",
      "regions of light and the house of the goddess of truth.  The triple soul has had a previous existe\n",
      "partially and imperfectly the vision of absolute truth. All her after existence, passed in many for\n",
      " to realize the abstract; in that, all good and truth, all the hopes of this and another life seem\n",
      "love, seems likewise to hint at a psychological truth.  It is difficult to exhaust the meanings o\n",
      " we have not the substance but the shadow of the truth which is in heaven. There is no reason to su\n",
      "elf to behold an image, however faint, of ideal truths. 'Not in that way was wisdom seen.'  We ma\n",
      "desiring to persuade, without a knowledge of the truth; and secondly, as ignoring the distinction b\n",
      "f Art,' confusing Art the expression of mind and truth with Art the composition of colours and form\n",
      "leading 'an art of speaking unconnected with the truth'? There is another text of Socrates which mu\n",
      "s and of true ideas? We avowedly follow not the truth but the will of the many (compare Republic).\n",
      "re some politicians who have no knowledge of the truth, but only of what is likely to be approved b\n",
      "inions unverified and contradictory to unpopular truths which are assured to us by the most certain\n",
      "\n",
      "in the habit of praising God 'without regard to truth and falsehood, attributing to Him every spec\n",
      "seeking for a 'private judgment' and not for the truth or 'God's judgment.' What would he say of th\n",
      "\n",
      "Might he not ask, whether we 'care more for the truth of religion, or for the speaker and the coun\n",
      " for the speaker and the country from which the truth comes'? or, whether the 'select wise' are no\n",
      " both these statements there is also contained a truth; they may be compared with one another, and \n",
      "r, to be ourselves the book, or the epistle, the truth embodied in a person, the Word made flesh. S\n",
      "ing else,' and how careless he is of historical truth or probability. Who would suspect that the wi\n",
      "hilosophic results, seems to have glimpses of a truth beyond.  Two short passages, which are unco\n",
      "ures? They cannot be tested by any criterion of truth, or used to establish any truth; they add no\n",
      "any criterion of truth, or used to establish any truth; they add nothing to the sum of human knowle\n",
      "table 'sham,' having no relation to fact, or to truth of any kind. It is antipathetic to him not o\n",
      "emoved they are from the ways of simplicity and truth, and how ignorant of the very elements of th\n",
      "e had anything new to say, or any conviction of truth. The age had no remembrance of the past, no \n",
      "ty; we may better understand the whereabouts of truth, and therefore there may be more success and\n",
      "he other, not having the courage to confess the truth, and not knowing how to fulfil the oaths and \n",
      "city about them which was refreshing; having no truth or honesty in them, nevertheless they preten\n",
      "gan thus,--   'False is that word of mine--the truth is that thou didst not embark in  ships, nor\n",
      "soul divine and human, and try to ascertain the truth about them. The beginning of our proof is as\n",
      "s I will describe; for I must dare to speak the truth, when truth is my theme. There abides the ver\n",
      "cribe; for I must dare to speak the truth, when truth is my theme. There abides the very being with\n",
      " at beholding reality, and once more gazing upon truth, is replenished and made glad, until the rev\n",
      "this exceeding eagerness to behold the plain of truth is that pasturage is found there, which is s\n",
      "stiny, that the soul which attains any vision of truth in company with a god is preserved from harm\n",
      "he is unable to follow, and fails to behold the truth, and through some ill-hap sinks beneath the \n",
      "y into man; and the soul which has seen most of truth shall come to the birth as a philosopher, or\n",
      " musical and loving nature; that which has seen truth in the second degree shall be some righteous \n",
      "t (krisis), for he has never lost the vision of truth.) receive judgment when they have completed \n",
      " the man. But the soul which has never seen the truth will not pass into the human form. For a man\n",
      "ing should not the mind of the speaker know the truth of the matter about which he is going to spea\n",
      "from opinion comes persuasion, and not from the truth.  SOCRATES: The words of the wise are not t\n",
      "ed any man to learn to speak in ignorance of the truth! Whatever my advice may be worth, I should h\n",
      "e worth, I should have told him to arrive at the truth first, and then come to me. At the same time\n",
      "time I boldly assert that mere knowledge of the truth will not give you the art of persuasion.  P\n",
      " real art of speaking which is divorced from the truth.  PHAEDRUS: And what are these arguments, S\n",
      "w either how to make the gradual departure from truth into the opposite of truth which is effected\n",
      "radual departure from truth into the opposite of truth which is effected by the help of resemblance\n",
      "  SOCRATES: He then, who being ignorant of the truth aims at appearances, will only attain an art\n",
      "e of the way in which the speaker who knows the truth may, without any serious purpose, steal away\n",
      "re not ignorant that probability is superior to truth, and who by force of argument make the little\n",
      "quire discussion and high speculation about the truths of nature; hence come loftiness of thought a\n",
      "AEDRUS: I agree.  SOCRATES: Then consider what truth as well as Hippocrates says about this or ab\n",
      "o would be a skilful rhetorician has no need of truth--for that in courts of law men literally care\n",
      " courts of law men literally care nothing about truth, but only about conviction: and this is based\n",
      "ep probability in view, and say good-bye to the truth. And the observance of this principle throug\n",
      "in the minds of the many by the likeness of the truth, and we had just been affirming that he who \n",
      "we had just been affirming that he who knew the truth would always know best how to discover the r\n",
      "ow best how to discover the resemblances of the truth. If he has anything else to say about the ar\n",
      "ot they only know; although if we had found the truth ourselves, do you think that we should care \n",
      "to reminiscence, and you give your disciples not truth, but only the semblance of truth; they will \n",
      " disciples not truth, but only the semblance of truth; they will be hearers of many things and wil\n",
      "\n",
      "young philosophy, deemed that if they heard the truth even from 'oak or rock,' it was enough for t\n",
      " can neither speak for themselves nor teach the truth adequately to others?  PHAEDRUS: No, that i\n",
      "at was said.  SOCRATES: Until a man knows the truth of the several particulars of which he is wr\n",
      "istinguish the dream from the reality, cannot in truth be otherwise than disgraceful to him, even t\n"
     ]
    }
   ],
   "source": [
    "# We start by asking what work you want a concordance for. Note that we lower case it.\n",
    "word2find = input(\"What word do you want a concordance for? \").lower()\n",
    "theRange = range(fullDialogue.count(word2find)) # We get the range for this word\n",
    "\n",
    "# Now we create a variable to hold our location as we work through and we set it to 0.\n",
    "theLocation = 0\n",
    "\n",
    "# Here is the loop that goes through the text\n",
    "for instance in theRange:\n",
    "    # Here we call our function with the updated location and print out the context\n",
    "    print(pullText2(theLocation,fullDialogue))\n",
    "    # Now we update the location so the next iteration returns the next instance\n",
    "    theLocation = fullDialogue.find(word2find,theLocation) + 1"
   ]
  },
  {
   "cell_type": "markdown",
   "metadata": {},
   "source": [
    "**Questions**\n",
    "* How can we improve this? What will it not catch?\n",
    "* What else can you imagine we could do?"
   ]
  },
  {
   "cell_type": "markdown",
   "metadata": {
    "collapsed": true
   },
   "source": [
    "----\n",
    "# Exercise: \n",
    "\n",
    "Add to your previous notebook that builds a corpus from the web the code to be able to explore the text and get a concordance for any word. Can you figure out how to find instances of the word that are capitalized?\n",
    "\n",
    "Can you add code that will give us the top 10 words?\n",
    "\n",
    "## Optional extra\n",
    "\n",
    "Can you save the concordances with names reflecting the word they are a concordance for?"
   ]
  },
  {
   "cell_type": "code",
   "execution_count": null,
   "metadata": {
    "collapsed": true
   },
   "outputs": [],
   "source": []
  }
 ],
 "metadata": {
  "kernelspec": {
   "display_name": "Python 3",
   "language": "python",
   "name": "python3"
  },
  "language_info": {
   "codemirror_mode": {
    "name": "ipython",
    "version": 3
   },
   "file_extension": ".py",
   "mimetype": "text/x-python",
   "name": "python",
   "nbconvert_exporter": "python",
   "pygments_lexer": "ipython3",
   "version": "3.6.1"
  }
 },
 "nbformat": 4,
 "nbformat_minor": 2
}

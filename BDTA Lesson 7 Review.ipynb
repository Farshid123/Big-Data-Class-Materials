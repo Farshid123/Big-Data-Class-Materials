{
 "cells": [
  {
   "cell_type": "markdown",
   "metadata": {},
   "source": [
    "# BDTA Lesson 7 Review\n",
    "\n",
    "In this lesson we will review **Functions** and **For loops** by looking at the homework exercise. Along the way we will introduce some new things:\n",
    "\n",
    "* Opening a file with a list of links\n",
    "* Using a function to retrieve the text of a web page\n",
    "* Saving the concordance to a variable\n",
    "* Saving it to a text file"
   ]
  },
  {
   "cell_type": "markdown",
   "metadata": {},
   "source": [
    "## Opening a file with a list of links\n",
    "\n",
    "Rather than run code over and over, I can keep a list of URLs in a text file, one per line. Then I can open the text file and read in the URLs into a list."
   ]
  },
  {
   "cell_type": "code",
   "execution_count": 1,
   "metadata": {},
   "outputs": [
    {
     "name": "stdout",
     "output_type": "stream",
     "text": [
      "BDTA Lesson 1 Using Jupyter.ipynb\r\n",
      "BDTA Lesson 2 Hello World.ipynb\r\n",
      "BDTA Lesson 3 Lists.ipynb\r\n",
      "BDTA Lesson 4 Review.ipynb\r\n",
      "BDTA Lesson 5 Getting Text.ipynb\r\n",
      "BDTA Lesson 6 Functions and For Loops.ipynb\r\n",
      "BDTA Lesson 7 Review.ipynb\r\n",
      "BDTA Lesson 8 Exploring a text with NLTK.ipynb\r\n",
      "BDTA Lesson 8.1 If ... Then.ipynb\r\n",
      "Hume Enquiry.txt\r\n",
      "README.md\r\n",
      "SimpleSentimentAnalysisExample.ipynb\r\n",
      "StoryOfWriting.txt\r\n",
      "bigdata.txt\r\n",
      "performanceConcordance.txt\r\n",
      "theWritingStory.txt\r\n"
     ]
    }
   ],
   "source": [
    "%ls"
   ]
  },
  {
   "cell_type": "code",
   "execution_count": 2,
   "metadata": {},
   "outputs": [
    {
     "data": {
      "text/plain": [
       "['https://en.wikipedia.org/wiki/Big_data',\n",
       " 'http://www.ucl.ac.uk/bigdata-theory/',\n",
       " 'https://simons.berkeley.edu/programs/bigdata2013']"
      ]
     },
     "execution_count": 2,
     "metadata": {},
     "output_type": "execute_result"
    }
   ],
   "source": [
    "with open(\"bigdata.txt\", \"r\") as file:\n",
    "    theURLs = file.read()\n",
    "    \n",
    "theList = theURLs.splitlines()\n",
    "theList[:3]"
   ]
  },
  {
   "cell_type": "markdown",
   "metadata": {},
   "source": [
    "### Using a *for loop*\n",
    "Here is another way to do it with a **for loop**."
   ]
  },
  {
   "cell_type": "code",
   "execution_count": 3,
   "metadata": {},
   "outputs": [
    {
     "data": {
      "text/plain": [
       "['https://en.wikipedia.org/wiki/Big_data',\n",
       " 'http://www.ucl.ac.uk/bigdata-theory/']"
      ]
     },
     "execution_count": 3,
     "metadata": {},
     "output_type": "execute_result"
    }
   ],
   "source": [
    "theListOfURLs = []\n",
    "for line in theList:\n",
    "    theListOfURLs.append(line) \n",
    "    \n",
    "theListOfURLs[:2]"
   ]
  },
  {
   "cell_type": "markdown",
   "metadata": {},
   "source": [
    "## Getting the text of the web pages\n",
    "\n",
    "Now we create a function for getting the text of each web page."
   ]
  },
  {
   "cell_type": "code",
   "execution_count": 4,
   "metadata": {},
   "outputs": [],
   "source": [
    "import urllib.request\n",
    "\n",
    "def getURL(theURL):\n",
    "    path = theURL\n",
    "    with urllib.request.urlopen(path) as response:\n",
    "        fullText = response.read().decode('utf-8')\n",
    "    return fullText"
   ]
  },
  {
   "cell_type": "markdown",
   "metadata": {},
   "source": [
    "### Retrieving the URLs and concatenating the text"
   ]
  },
  {
   "cell_type": "code",
   "execution_count": 5,
   "metadata": {},
   "outputs": [
    {
     "data": {
      "text/plain": [
       "419163"
      ]
     },
     "execution_count": 5,
     "metadata": {},
     "output_type": "execute_result"
    }
   ],
   "source": [
    "theFullText = \"\"\n",
    "for link in theList:\n",
    "    theFullText += link\n",
    "    theFullText += \"\\n--------------------------------------------------------\\n\"\n",
    "    theFullText += getURL(link)\n",
    "    \n",
    "len(theFullText)"
   ]
  },
  {
   "cell_type": "markdown",
   "metadata": {},
   "source": [
    "----\n",
    "# Getting a Concordance"
   ]
  },
  {
   "cell_type": "code",
   "execution_count": 6,
   "metadata": {
    "collapsed": true
   },
   "outputs": [],
   "source": [
    "def pullText(index,what):\n",
    "    leftInd = index - 50\n",
    "    rightInd = index + 50\n",
    "    theFound = what[leftInd:rightInd].replace(\"\\r\\n\",\" \")\n",
    "    return theFound"
   ]
  },
  {
   "cell_type": "code",
   "execution_count": 7,
   "metadata": {},
   "outputs": [
    {
     "name": "stdout",
     "output_type": "stream",
     "text": [
      "What word do you want a concordance for? truth\n",
      "ntelligence and knowledge [...], with the aura of truth, objectivity, and accuracy\". Users of big da\n",
      "\n",
      " not necessarily have a closer claim on objective truth\".<sup id=\"cite_ref-danah2_173-1\" class=\"refe\n",
      "\n",
      "\n"
     ]
    }
   ],
   "source": [
    "word2find = input(\"What word do you want a concordance for? \").lower()\n",
    "theRange = range(theFullText.count(word2find)) \n",
    "\n",
    "theLocation = theFullText.find(word2find,0)\n",
    "theConc = \"\"\n",
    "for instance in theRange:\n",
    "    theConc += pullText(theLocation,theFullText) + \"\\n\\n\"\n",
    "    theLocation = theFullText.find(word2find,theLocation + 1)\n",
    "    \n",
    "print(theConc)"
   ]
  },
  {
   "cell_type": "markdown",
   "metadata": {},
   "source": [
    "## Saving the the concordance\n",
    "\n",
    "Now we can save the concordance to a text file."
   ]
  },
  {
   "cell_type": "code",
   "execution_count": 9,
   "metadata": {
    "collapsed": true
   },
   "outputs": [],
   "source": [
    "nameOfConc = word2find + \"Concordance.txt\"\n",
    "\n",
    "with open(nameOfConc, \"w\") as file:\n",
    "    file.write(theConc)"
   ]
  },
  {
   "cell_type": "markdown",
   "metadata": {},
   "source": [
    "----\n",
    "# Exercise\n",
    "\n",
    "Create a text from multiple online web pages.\n",
    "\n",
    "* Go to the [Gutenberg project site](https://www.gutenberg.org/). \n",
    "* Find a set of texts by an author you are interested in (like Jane Austen.)\n",
    "* Create a text file with a list of the URLs for the text files on Gutenberg (one URL per file)\n",
    "* Use the code above to retrieve those texts and concatenate them.\n",
    "* Save it all to new text file with an appropriate filename."
   ]
  },
  {
   "cell_type": "code",
   "execution_count": null,
   "metadata": {
    "collapsed": true
   },
   "outputs": [],
   "source": []
  }
 ],
 "metadata": {
  "kernelspec": {
   "display_name": "Python 3",
   "language": "python",
   "name": "python3"
  },
  "language_info": {
   "codemirror_mode": {
    "name": "ipython",
    "version": 3
   },
   "file_extension": ".py",
   "mimetype": "text/x-python",
   "name": "python",
   "nbconvert_exporter": "python",
   "pygments_lexer": "ipython3",
   "version": "3.6.1"
  }
 },
 "nbformat": 4,
 "nbformat_minor": 2
}

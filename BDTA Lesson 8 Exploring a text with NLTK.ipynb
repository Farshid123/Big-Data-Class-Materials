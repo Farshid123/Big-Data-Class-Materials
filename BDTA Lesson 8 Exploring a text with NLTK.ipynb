{
 "cells": [
  {
   "cell_type": "markdown",
   "metadata": {},
   "source": [
    "# BDAT Lesson 8 - Exploring a Text with NLTK\n",
    "\n",
    "This notebook shows how you can explore aspects of a text using the Natural Langauge Took Kit (NLTK). It is based on [a similar one that is part of ALTA](https://github.com/sgsinclair/alta/blob/Rockwell's-Edits/ipynb/utilities/Exploring%20a%20text%20with%20NLTK.ipynb). Some of the things this hows you how to do include:\n",
    "\n",
    "* Tokenize a text \n",
    "* Generate a concordance for a word\n",
    "* Explore collocations (words that are located together)\n",
    "* Counding words and frequencies\n",
    "* Finding smiliar words and contexts\n",
    "\n",
    "For more on NLTK see the online version of the book [Natural Language Processing with Python](http://www.nltk.org/book/). "
   ]
  },
  {
   "cell_type": "markdown",
   "metadata": {},
   "source": [
    "## 1.0 Preparing for Exploration\n",
    "\n",
    "Before we can analyze a text we need to load it in and tokenize it. For tokenization and exploration we are going to use NLTK."
   ]
  },
  {
   "cell_type": "markdown",
   "metadata": {},
   "source": [
    "### 1.1 Installing NTLK\n",
    "\n",
    "Before you can use NTLK you need to make sure it is installed. The [Anaconda Navigator](https://docs.continuum.io/anaconda/navigator) by default installs NLTK, but you can always test if it is installed by importing it with ```import nltk```. Try it. It will give you an error if you don't have it."
   ]
  },
  {
   "cell_type": "code",
   "execution_count": 1,
   "metadata": {},
   "outputs": [],
   "source": [
    "import nltk"
   ]
  },
  {
   "cell_type": "markdown",
   "metadata": {},
   "source": [
    "### 1.2 Getting a Text\n",
    "\n",
    "Now we will get a text to process with NLTK."
   ]
  },
  {
   "cell_type": "markdown",
   "metadata": {},
   "source": [
    "First we see what text files we have. "
   ]
  },
  {
   "cell_type": "code",
   "execution_count": 45,
   "metadata": {},
   "outputs": [
    {
     "name": "stdout",
     "output_type": "stream",
     "text": [
      "Hume Enquiry.txt            performanceConcordance.txt\r\n",
      "StoryOfWriting.txt          theWritingStory.txt\r\n",
      "bigdata.txt\r\n"
     ]
    }
   ],
   "source": [
    "%ls *.txt"
   ]
  },
  {
   "cell_type": "markdown",
   "metadata": {},
   "source": [
    "We are going to use the \"Hume Enquiry.txt\" from the Gutenberg Project. You can use whatever text you want. We print the first 50 characters to check."
   ]
  },
  {
   "cell_type": "code",
   "execution_count": 49,
   "metadata": {},
   "outputs": [
    {
     "name": "stdout",
     "output_type": "stream",
     "text": [
      "This string has 366798 characters.\n",
      "The Project Gutenberg EBook of An Enquiry Concerni\n"
     ]
    }
   ],
   "source": [
    "theText2Use = \"Hume Enquiry.txt\"\n",
    "with open(theText2Use, \"r\") as fileToRead:\n",
    "    theString = fileToRead.read()\n",
    "    \n",
    "print(\"This string has\", len(theString), \"characters.\")\n",
    "print(theString[:50])"
   ]
  },
  {
   "cell_type": "markdown",
   "metadata": {},
   "source": [
    "**Questions**\n",
    "* Is this a good version of the text? How would we know?\n",
    "* How can we get rid of all the text at the start and end that are not part of the text?"
   ]
  },
  {
   "cell_type": "markdown",
   "metadata": {},
   "source": [
    "### 1.3 Tokenization\n",
    "\n",
    "Now we tokenize the text using NTLK's tokenizer producing a list called \"listOfTokens\" and check the first words. Note that the NTLK tokenizer doesn't eliminate punctuation and doesn't lower case the words. You can tokenize using another method if you want. Then we create a NLTK text object from the tokens. Note how the text object behaves like a list of tokens."
   ]
  },
  {
   "cell_type": "code",
   "execution_count": 50,
   "metadata": {},
   "outputs": [
    {
     "name": "stdout",
     "output_type": "stream",
     "text": [
      "['The', 'Project', 'Gutenberg', 'EBook', 'of', 'An', 'Enquiry', 'Concerning', 'Human', 'Understanding', ',', 'by', 'David', 'Hume', 'and', 'L.', 'A.', 'Selby-Bigge', 'This', 'eBook', 'is', 'for', 'the', 'use', 'of', 'anyone', 'anywhere', 'at', 'no', 'cost', 'and', 'with', 'almost', 'no', 'restrictions', 'whatsoever', '.', 'You', 'may', 'copy', 'it', ',', 'give', 'it', 'away', 'or', 're-use', 'it', 'under', 'the']\n"
     ]
    }
   ],
   "source": [
    "# This creates a list of tokens from the text\n",
    "listOfTokens = nltk.word_tokenize(theString)\n",
    "\n",
    "# This creates a NLTK text object from a list of tokens\n",
    "theText = nltk.Text(listOfTokens)\n",
    "\n",
    "print(listOfTokens[:50]) # Show the first 50 tokens"
   ]
  },
  {
   "cell_type": "markdown",
   "metadata": {},
   "source": [
    "## 2.0 Concording\n",
    "\n",
    "Now we get a concordance for a word in one line. Note that we can control the width of the concordances. Edit the word to explore."
   ]
  },
  {
   "cell_type": "code",
   "execution_count": 51,
   "metadata": {},
   "outputs": [
    {
     "name": "stdout",
     "output_type": "stream",
     "text": [
      "Displaying 21 of 21 matches:\n",
      "ticism ; and should for ever talk of truth and falsehood , vice and virtue , be\n",
      "; and consequently , that there is a truth and falsehood in all propositions on\n",
      "propositions on this subject , and a truth and falsehood , which lie not beyond\n",
      "rofound enquiry with clearness , and truth with novelty ! And still more happy \n",
      "anner ; nor is our evidence of their truth , however great , of a like nature w\n",
      "for a lion or a tiger ? But the same truth may not appear , at first sight , to\n",
      "mortified by it , except the love of truth ; and that passion never is , nor ca\n",
      "h due calmness and distinction . The truth is , an unexperienced reasoner could\n",
      " serving nothing to the discovery of truth , but only to make the person of an \n",
      "sion . Our evidence , then , for the truth of the _Christian_ religion is less \n",
      "on is less than the evidence for the truth of our senses ; because , even in th\n",
      "d not men commonly an inclination to truth and a principle of probity ; were th\n",
      "ten at a loss to distinguish between truth and falsehood in the most recent act\n",
      "re the instances of the violation of truth in the testimony of men , with those\n",
      " and probable . As the violations of truth are more common in the testimony con\n",
      "evere scrutiny , lest we depart from truth . Above all , every relation must be\n",
      ", by which we can ever hope to reach truth , and attain a proper stability and \n",
      "ir sphere , the proper _criteria_ of truth and falsehood . There are other more\n",
      "le-page ( and undoubtedly with great truth ) to have composed his book against \n",
      "rs no bias or passion except love of truth , and so has few partisans , 34 ; th\n",
      "sence , 86 . Time and space , 124 f. Truth 8 , 17 ( v. _Scepticism_ ) . Underst\n"
     ]
    }
   ],
   "source": [
    "theText.concordance(\"truth\", width=80)"
   ]
  },
  {
   "cell_type": "markdown",
   "metadata": {},
   "source": [
    "Note that ```concordance``` is not case sensitive. This will give you a concordance of both capitalized and lower case words.\n",
    "\n",
    "If you want fewer or more lines then you need to add a parameter *lines=*."
   ]
  },
  {
   "cell_type": "code",
   "execution_count": 52,
   "metadata": {},
   "outputs": [
    {
     "name": "stdout",
     "output_type": "stream",
     "text": [
      "Displaying 10 of 3499 matches:\n",
      "                                      The Project Gutenberg EBook of An Enquiry\n",
      "d L. A. Selby-Bigge This eBook is for the use of anyone anywhere at no cost and\n",
      " it , give it away or re-use it under the terms of the Project Gutenberg Licens\n",
      " away or re-use it under the terms of the Project Gutenberg License included wi\n",
      "Extracted from : Enquiries Concerning the Human Understanding , and Concerning \n",
      " Human Understanding , and Concerning the Principles of Morals , By David Hume \n",
      "rals , By David Hume . Reprinted from The Posthumous Edition of 1777 , and Edit\n",
      "Second Edition , 1902 CONTENTS I . Of the different Species of Philosophy II . \n",
      "fferent Species of Philosophy II . Of the Origin of Ideas III . Of the Associat\n",
      " II . Of the Origin of Ideas III . Of the Association of Ideas IV . Sceptical D\n"
     ]
    }
   ],
   "source": [
    "theText.concordance(\"the\", lines=10)"
   ]
  },
  {
   "cell_type": "markdown",
   "metadata": {},
   "source": [
    "One thing that is annoying is that you can't easily save a concordance to a file and that is because the NLTK text object concordance is printed to the screen for exploration. You will need to cut and paste to a word processor to save this."
   ]
  },
  {
   "cell_type": "markdown",
   "metadata": {},
   "source": [
    "### 2.1 Plot the Dispersion of Words\n",
    "\n",
    "We can easily plot the dispersion of words through the text. Note how it is case sensitive.\n",
    "\n",
    "The line ```%matplotlib inline``` makes sure that the plot is placed inline."
   ]
  },
  {
   "cell_type": "code",
   "execution_count": 58,
   "metadata": {},
   "outputs": [
    {
     "data": {
      "image/png": "[encoded data removed]",
      "text/plain": [
       "<matplotlib.figure.Figure at 0x11700d048>"
      ]
     },
     "metadata": {},
     "output_type": "display_data"
    }
   ],
   "source": [
    "import matplotlib\n",
    "\n",
    "# This is to force the plots to show inline rather than in another window\n",
    "%matplotlib inline \n",
    "\n",
    "theText.dispersion_plot([\"truth\",\"Truth\"])"
   ]
  },
  {
   "cell_type": "markdown",
   "metadata": {},
   "source": [
    "### 2.2 Counting Words and Frequencies\n",
    "\n",
    "You can also count words. This is case sensitive if you use the text object."
   ]
  },
  {
   "cell_type": "code",
   "execution_count": 59,
   "metadata": {},
   "outputs": [
    {
     "name": "stdout",
     "output_type": "stream",
     "text": [
      "20   1\n"
     ]
    }
   ],
   "source": [
    "print(theText.count(\"truth\"), \" \", theText.count(\"Truth\"))"
   ]
  },
  {
   "cell_type": "markdown",
   "metadata": {},
   "source": [
    "To make it case insensitive we are going to lowercase every token and get a new list of tokens. We are also going to get rid of punctuation by keeping only the alphabetical tokens. Then we can count things in the list."
   ]
  },
  {
   "cell_type": "code",
   "execution_count": 61,
   "metadata": {},
   "outputs": [
    {
     "name": "stdout",
     "output_type": "stream",
     "text": [
      "['the', 'project', 'gutenberg', 'ebook', 'of', 'an', 'enquiry', 'concerning', 'human', 'understanding', ',', 'by', 'david', 'hume', 'and', 'L.', 'A.', 'Selby-Bigge', 'this', 'ebook']\n"
     ]
    }
   ],
   "source": [
    "theLowerTokens = []\n",
    "for token in listOfTokens:\n",
    "    if token.isalpha():\n",
    "        theLowerTokens.append(token.lower())\n",
    "    else:\n",
    "        theLowerTokens.append(token)\n",
    "\n",
    "print(theLowerTokens[:20])"
   ]
  },
  {
   "cell_type": "markdown",
   "metadata": {},
   "source": [
    "There is a more efficient way to do this using [list comprehension](http://python-3-patterns-idioms-test.readthedocs.io/en/latest/Comprehensions.html)."
   ]
  },
  {
   "cell_type": "code",
   "execution_count": 62,
   "metadata": {},
   "outputs": [
    {
     "name": "stdout",
     "output_type": "stream",
     "text": [
      "['the', 'project', 'gutenberg', 'ebook', 'of', 'an', 'enquiry', 'concerning', 'human', 'understanding', 'by', 'david', 'hume', 'and', 'l.', 'a.', 'selby-bigge', 'this', 'ebook', 'is']\n"
     ]
    }
   ],
   "source": [
    "theLowerTokens = [token.lower() for token in listOfTokens if token[0].isalpha()]\n",
    "print(theLowerTokens[:20])"
   ]
  },
  {
   "cell_type": "code",
   "execution_count": 64,
   "metadata": {},
   "outputs": [
    {
     "data": {
      "text/plain": [
       "21"
      ]
     },
     "execution_count": 64,
     "metadata": {},
     "output_type": "execute_result"
    }
   ],
   "source": [
    "listOfLowTokens.count(\"truth\")"
   ]
  },
  {
   "cell_type": "markdown",
   "metadata": {},
   "source": [
    "With NLTK we can get word frequencies. These can be displayed as a table. We can then do other things with the frequency distribution object."
   ]
  },
  {
   "cell_type": "code",
   "execution_count": 66,
   "metadata": {},
   "outputs": [
    {
     "data": {
      "text/plain": [
       "FreqDist({'the': 3499,\n",
       "          'project': 91,\n",
       "          'gutenberg': 32,\n",
       "          'ebook': 11,\n",
       "          'of': 2848,\n",
       "          'an': 243,\n",
       "          'enquiry': 36,\n",
       "          'concerning': 90,\n",
       "          'human': 149,\n",
       "          'understanding': 55,\n",
       "          'by': 564,\n",
       "          'david': 5,\n",
       "          'hume': 5,\n",
       "          'and': 2210,\n",
       "          'l.': 3,\n",
       "          'a.': 4,\n",
       "          'selby-bigge': 4,\n",
       "          'this': 498,\n",
       "          'is': 955,\n",
       "          'for': 295,\n",
       "          'use': 29,\n",
       "          'anyone': 6,\n",
       "          'anywhere': 5,\n",
       "          'at': 172,\n",
       "          'no': 258,\n",
       "          'cost': 4,\n",
       "          'with': 410,\n",
       "          'almost': 15,\n",
       "          'restrictions': 2,\n",
       "          'whatsoever': 4,\n",
       "          'you': 200,\n",
       "          'may': 295,\n",
       "          'copy': 14,\n",
       "          'it': 786,\n",
       "          'give': 60,\n",
       "          'away': 4,\n",
       "          'or': 711,\n",
       "          're-use': 2,\n",
       "          'under': 27,\n",
       "          'terms': 41,\n",
       "          'license': 15,\n",
       "          'included': 3,\n",
       "          'online': 4,\n",
       "          'www.gutenberg.net': 3,\n",
       "          'title': 1,\n",
       "          'author': 15,\n",
       "          'posting': 1,\n",
       "          'date': 4,\n",
       "          'november': 1,\n",
       "          'release': 1,\n",
       "          'january': 5,\n",
       "          'first': 66,\n",
       "          'posted': 6,\n",
       "          'october': 1,\n",
       "          'language': 4,\n",
       "          'english': 2,\n",
       "          'start': 3,\n",
       "          'produced': 21,\n",
       "          'jonathan': 2,\n",
       "          'ingram': 2,\n",
       "          'distributed': 7,\n",
       "          'proofreaders': 2,\n",
       "          'extracted': 1,\n",
       "          'from': 529,\n",
       "          'enquiries': 21,\n",
       "          'principles': 79,\n",
       "          'morals': 5,\n",
       "          'reprinted': 1,\n",
       "          'posthumous': 1,\n",
       "          'edition': 3,\n",
       "          'edited': 1,\n",
       "          'introduction': 1,\n",
       "          'comparative': 2,\n",
       "          'tables': 1,\n",
       "          'contents': 3,\n",
       "          'analytical': 1,\n",
       "          'index': 3,\n",
       "          'l.a.': 1,\n",
       "          'm.a.': 1,\n",
       "          'late': 2,\n",
       "          'fellow': 2,\n",
       "          'university': 1,\n",
       "          'college': 1,\n",
       "          'oxford': 1,\n",
       "          'second': 14,\n",
       "          'i': 209,\n",
       "          'different': 78,\n",
       "          'species': 45,\n",
       "          'philosophy': 92,\n",
       "          'ii': 10,\n",
       "          'origin': 15,\n",
       "          'ideas': 120,\n",
       "          'iii': 3,\n",
       "          'association': 9,\n",
       "          'iv': 3,\n",
       "          'sceptical': 17,\n",
       "          'doubts': 11,\n",
       "          'operations': 56,\n",
       "          'v.': 44,\n",
       "          'solution': 10,\n",
       "          'these': 215,\n",
       "          'vi': 2,\n",
       "          'probability': 16,\n",
       "          'vii': 2,\n",
       "          'idea': 116,\n",
       "          'necessary': 40,\n",
       "          'connexion': 68,\n",
       "          'viii': 2,\n",
       "          'liberty': 35,\n",
       "          'necessity': 57,\n",
       "          'ix': 2,\n",
       "          'reason': 116,\n",
       "          'animals': 19,\n",
       "          'x': 2,\n",
       "          'miracles': 38,\n",
       "          'xi': 2,\n",
       "          'a': 1165,\n",
       "          'particular': 97,\n",
       "          'providence': 9,\n",
       "          'future': 34,\n",
       "          'state': 26,\n",
       "          'xii': 3,\n",
       "          'academical': 4,\n",
       "          'section': 27,\n",
       "          'moral': 33,\n",
       "          'science': 30,\n",
       "          'nature': 200,\n",
       "          'be': 674,\n",
       "          'treated': 3,\n",
       "          'after': 43,\n",
       "          'two': 44,\n",
       "          'manners': 9,\n",
       "          'each': 41,\n",
       "          'which': 750,\n",
       "          'has': 136,\n",
       "          'its': 160,\n",
       "          'peculiar': 5,\n",
       "          'merit': 7,\n",
       "          'contribute': 4,\n",
       "          'to': 1809,\n",
       "          'entertainment': 2,\n",
       "          'instruction': 5,\n",
       "          'reformation': 2,\n",
       "          'mankind': 49,\n",
       "          'one': 203,\n",
       "          'considers': 4,\n",
       "          'man': 94,\n",
       "          'chiefly': 9,\n",
       "          'as': 485,\n",
       "          'born': 1,\n",
       "          'action': 36,\n",
       "          'influenced': 1,\n",
       "          'in': 1117,\n",
       "          'his': 177,\n",
       "          'measures': 5,\n",
       "          'taste': 9,\n",
       "          'sentiment': 37,\n",
       "          'pursuing': 1,\n",
       "          'object': 92,\n",
       "          'avoiding': 5,\n",
       "          'another': 62,\n",
       "          'according': 31,\n",
       "          'value': 5,\n",
       "          'objects': 120,\n",
       "          'seem': 31,\n",
       "          'possess': 7,\n",
       "          'light': 15,\n",
       "          'they': 236,\n",
       "          'present': 70,\n",
       "          'themselves': 31,\n",
       "          'virtue': 13,\n",
       "          'all': 419,\n",
       "          'allowed': 31,\n",
       "          'most': 100,\n",
       "          'valuable': 1,\n",
       "          'philosophers': 39,\n",
       "          'paint': 5,\n",
       "          'her': 23,\n",
       "          'amiable': 2,\n",
       "          'colours': 14,\n",
       "          'borrowing': 1,\n",
       "          'helps': 1,\n",
       "          'poetry': 2,\n",
       "          'eloquence': 6,\n",
       "          'treating': 3,\n",
       "          'their': 203,\n",
       "          'subject': 33,\n",
       "          'easy': 23,\n",
       "          'obvious': 17,\n",
       "          'manner': 50,\n",
       "          'such': 211,\n",
       "          'best': 10,\n",
       "          'fitted': 4,\n",
       "          'please': 9,\n",
       "          'imagination': 38,\n",
       "          'engage': 6,\n",
       "          'affections': 8,\n",
       "          'select': 1,\n",
       "          'striking': 1,\n",
       "          'observations': 13,\n",
       "          'instances': 42,\n",
       "          'common': 51,\n",
       "          'life': 67,\n",
       "          'place': 34,\n",
       "          'opposite': 14,\n",
       "          'characters': 12,\n",
       "          'proper': 37,\n",
       "          'contrast': 2,\n",
       "          'alluring': 2,\n",
       "          'us': 169,\n",
       "          'into': 83,\n",
       "          'paths': 3,\n",
       "          'views': 7,\n",
       "          'glory': 3,\n",
       "          'happiness': 6,\n",
       "          'direct': 11,\n",
       "          'our': 335,\n",
       "          'steps': 7,\n",
       "          'soundest': 1,\n",
       "          'precepts': 3,\n",
       "          'illustrious': 1,\n",
       "          'examples': 1,\n",
       "          'make': 52,\n",
       "          'difference': 20,\n",
       "          'between': 74,\n",
       "          'vice': 8,\n",
       "          'excite': 10,\n",
       "          'regulate': 7,\n",
       "          'sentiments': 29,\n",
       "          'so': 217,\n",
       "          'can': 318,\n",
       "          'but': 377,\n",
       "          'bend': 1,\n",
       "          'hearts': 1,\n",
       "          'love': 10,\n",
       "          'probity': 5,\n",
       "          'true': 21,\n",
       "          'honour': 6,\n",
       "          'think': 29,\n",
       "          'that': 1002,\n",
       "          'have': 307,\n",
       "          'fully': 7,\n",
       "          'attained': 8,\n",
       "          'end': 12,\n",
       "          'labours': 2,\n",
       "          'other': 214,\n",
       "          'consider': 27,\n",
       "          'reasonable': 15,\n",
       "          'rather': 16,\n",
       "          'than': 145,\n",
       "          'active': 9,\n",
       "          'being': 87,\n",
       "          'endeavour': 21,\n",
       "          'form': 37,\n",
       "          'more': 220,\n",
       "          'cultivate': 4,\n",
       "          'regard': 58,\n",
       "          'speculation': 11,\n",
       "          'narrow': 14,\n",
       "          'scrutiny': 14,\n",
       "          'examine': 30,\n",
       "          'order': 43,\n",
       "          'find': 66,\n",
       "          'those': 119,\n",
       "          'approve': 2,\n",
       "          'blame': 8,\n",
       "          'any': 458,\n",
       "          'behaviour': 11,\n",
       "          'reproach': 2,\n",
       "          'literature': 1,\n",
       "          'should': 75,\n",
       "          'not': 446,\n",
       "          'yet': 42,\n",
       "          'fixed': 7,\n",
       "          'beyond': 44,\n",
       "          'controversy': 9,\n",
       "          'foundation': 54,\n",
       "          'reasoning': 109,\n",
       "          'criticism': 3,\n",
       "          'ever': 96,\n",
       "          'talk': 5,\n",
       "          'truth': 21,\n",
       "          'falsehood': 21,\n",
       "          'beauty': 6,\n",
       "          'deformity': 2,\n",
       "          'without': 96,\n",
       "          'able': 46,\n",
       "          'determine': 9,\n",
       "          'source': 10,\n",
       "          'distinctions': 4,\n",
       "          'while': 36,\n",
       "          'attempt': 11,\n",
       "          'arduous': 2,\n",
       "          'task': 5,\n",
       "          'are': 415,\n",
       "          'deterred': 3,\n",
       "          'difficulties': 8,\n",
       "          'proceeding': 3,\n",
       "          'general': 63,\n",
       "          'still': 79,\n",
       "          'push': 5,\n",
       "          'on': 225,\n",
       "          'rest': 14,\n",
       "          'satisfied': 7,\n",
       "          'till': 12,\n",
       "          'arrive': 8,\n",
       "          'original': 21,\n",
       "          'every': 122,\n",
       "          'curiosity': 14,\n",
       "          'must': 177,\n",
       "          'bounded': 1,\n",
       "          'though': 102,\n",
       "          'speculations': 5,\n",
       "          'abstract': 20,\n",
       "          'even': 95,\n",
       "          'unintelligible': 6,\n",
       "          'readers': 2,\n",
       "          'aim': 2,\n",
       "          'approbation': 5,\n",
       "          'learned': 14,\n",
       "          'wise': 18,\n",
       "          'sufficiently': 8,\n",
       "          'compensated': 1,\n",
       "          'labour': 6,\n",
       "          'whole': 51,\n",
       "          'lives': 4,\n",
       "          'if': 227,\n",
       "          'discover': 38,\n",
       "          'some': 104,\n",
       "          'hidden': 1,\n",
       "          'truths': 4,\n",
       "          'posterity': 2,\n",
       "          'certain': 60,\n",
       "          'will': 198,\n",
       "          'always': 66,\n",
       "          'generality': 9,\n",
       "          'preference': 6,\n",
       "          'above': 19,\n",
       "          'accurate': 14,\n",
       "          'abstruse': 11,\n",
       "          'many': 51,\n",
       "          'recommended': 1,\n",
       "          'only': 155,\n",
       "          'agreeable': 6,\n",
       "          'useful': 13,\n",
       "          'enters': 3,\n",
       "          'moulds': 1,\n",
       "          'heart': 5,\n",
       "          'touching': 4,\n",
       "          'actuate': 4,\n",
       "          'men': 70,\n",
       "          'reforms': 1,\n",
       "          'conduct': 31,\n",
       "          'brings': 1,\n",
       "          'them': 160,\n",
       "          'nearer': 7,\n",
       "          'model': 2,\n",
       "          'perfection': 9,\n",
       "          'describes': 3,\n",
       "          'contrary': 49,\n",
       "          'founded': 32,\n",
       "          'turn': 11,\n",
       "          'mind': 145,\n",
       "          'enter': 6,\n",
       "          'business': 9,\n",
       "          'vanishes': 1,\n",
       "          'when': 160,\n",
       "          'philosopher': 23,\n",
       "          'leaves': 4,\n",
       "          'shade': 6,\n",
       "          'comes': 6,\n",
       "          'open': 10,\n",
       "          'day': 3,\n",
       "          'nor': 82,\n",
       "          'easily': 16,\n",
       "          'retain': 3,\n",
       "          'influence': 45,\n",
       "          'over': 33,\n",
       "          'feelings': 3,\n",
       "          'agitation': 1,\n",
       "          'passions': 16,\n",
       "          'vehemence': 2,\n",
       "          'dissipate': 1,\n",
       "          'conclusions': 29,\n",
       "          'reduce': 4,\n",
       "          'profound': 18,\n",
       "          'mere': 28,\n",
       "          'plebeian': 1,\n",
       "          'also': 38,\n",
       "          'confessed': 11,\n",
       "          'durable': 7,\n",
       "          'well': 45,\n",
       "          'justest': 2,\n",
       "          'fame': 2,\n",
       "          'been': 97,\n",
       "          'acquired': 8,\n",
       "          'reasoners': 5,\n",
       "          'hitherto': 13,\n",
       "          'enjoyed': 2,\n",
       "          'momentary': 4,\n",
       "          'reputation': 4,\n",
       "          'caprice': 2,\n",
       "          'ignorance': 20,\n",
       "          'own': 37,\n",
       "          'age': 20,\n",
       "          'support': 15,\n",
       "          'renown': 1,\n",
       "          'equitable': 2,\n",
       "          'commit': 4,\n",
       "          'mistake': 8,\n",
       "          'subtile': 2,\n",
       "          'reasonings': 54,\n",
       "          'parent': 2,\n",
       "          'he': 147,\n",
       "          'pushes': 1,\n",
       "          'consequences': 21,\n",
       "          'embracing': 2,\n",
       "          'conclusion': 36,\n",
       "          'unusual': 6,\n",
       "          'appearance': 33,\n",
       "          'contradiction': 18,\n",
       "          'popular': 8,\n",
       "          'opinion': 30,\n",
       "          'who': 122,\n",
       "          'purposes': 3,\n",
       "          'represent': 4,\n",
       "          'sense': 34,\n",
       "          'beautiful': 1,\n",
       "          'engaging': 2,\n",
       "          'accident': 4,\n",
       "          'falls': 2,\n",
       "          'error': 7,\n",
       "          'goes': 4,\n",
       "          'farther': 43,\n",
       "          'renewing': 1,\n",
       "          'appeal': 8,\n",
       "          'natural': 76,\n",
       "          'returns': 2,\n",
       "          'right': 11,\n",
       "          'path': 2,\n",
       "          'secures': 2,\n",
       "          'himself': 22,\n",
       "          'dangerous': 7,\n",
       "          'illusions': 1,\n",
       "          'cicero': 2,\n",
       "          'flourishes': 2,\n",
       "          'aristotle': 3,\n",
       "          'utterly': 4,\n",
       "          'decayed': 1,\n",
       "          'la': 2,\n",
       "          'bruyere': 2,\n",
       "          'passes': 3,\n",
       "          'seas': 1,\n",
       "          'maintains': 1,\n",
       "          'malebranche': 3,\n",
       "          'confined': 5,\n",
       "          'nation': 4,\n",
       "          'addison': 1,\n",
       "          'perhaps': 34,\n",
       "          'read': 4,\n",
       "          'pleasure': 13,\n",
       "          'locke': 8,\n",
       "          'shall': 66,\n",
       "          'entirely': 63,\n",
       "          'forgotten': 2,\n",
       "          'character': 23,\n",
       "          'commonly': 20,\n",
       "          'little': 24,\n",
       "          'acceptable': 1,\n",
       "          'world': 40,\n",
       "          'supposed': 43,\n",
       "          'nothing': 76,\n",
       "          'either': 61,\n",
       "          'advantage': 13,\n",
       "          'society': 17,\n",
       "          'remote': 15,\n",
       "          'communication': 5,\n",
       "          'wrapped': 1,\n",
       "          'up': 35,\n",
       "          'notions': 2,\n",
       "          'equally': 14,\n",
       "          'comprehension': 11,\n",
       "          'hand': 7,\n",
       "          'ignorant': 18,\n",
       "          'despised': 3,\n",
       "          'thing': 25,\n",
       "          'deemed': 3,\n",
       "          'surer': 1,\n",
       "          'sign': 1,\n",
       "          'illiberal': 1,\n",
       "          'genius': 8,\n",
       "          'where': 71,\n",
       "          'sciences': 24,\n",
       "          'flourish': 3,\n",
       "          'destitute': 1,\n",
       "          'relish': 4,\n",
       "          'noble': 2,\n",
       "          'entertainments': 2,\n",
       "          'perfect': 22,\n",
       "          'lie': 14,\n",
       "          'extremes': 2,\n",
       "          'retaining': 1,\n",
       "          'equal': 19,\n",
       "          'ability': 2,\n",
       "          'books': 2,\n",
       "          'company': 5,\n",
       "          'preserving': 2,\n",
       "          'conversation': 7,\n",
       "          'discernment': 2,\n",
       "          'delicacy': 1,\n",
       "          'arise': 24,\n",
       "          'polite': 4,\n",
       "          'letters': 3,\n",
       "          'accuracy': 9,\n",
       "          'result': 35,\n",
       "          'just': 26,\n",
       "          'diffuse': 2,\n",
       "          'accomplished': 1,\n",
       "          'compositions': 2,\n",
       "          'style': 1,\n",
       "          'draw': 24,\n",
       "          'too': 26,\n",
       "          'much': 68,\n",
       "          'require': 7,\n",
       "          'deep': 2,\n",
       "          'application': 7,\n",
       "          'retreat': 3,\n",
       "          'comprehended': 7,\n",
       "          'send': 3,\n",
       "          'back': 6,\n",
       "          'student': 1,\n",
       "          'among': 27,\n",
       "          'full': 37,\n",
       "          'applicable': 6,\n",
       "          'exigence': 1,\n",
       "          'means': 31,\n",
       "          'becomes': 10,\n",
       "          'instructive': 1,\n",
       "          'retirement': 1,\n",
       "          'entertaining': 1,\n",
       "          'receives': 2,\n",
       "          'food': 2,\n",
       "          'nourishment': 7,\n",
       "          'bounds': 4,\n",
       "          'satisfaction': 10,\n",
       "          'hoped': 2,\n",
       "          'extent': 5,\n",
       "          'security': 10,\n",
       "          'acquisitions': 1,\n",
       "          'sociable': 1,\n",
       "          'less': 37,\n",
       "          'neither': 17,\n",
       "          'enjoy': 3,\n",
       "          'amusing': 1,\n",
       "          'preserve': 5,\n",
       "          'disposition': 8,\n",
       "          'various': 11,\n",
       "          'necessities': 2,\n",
       "          'submit': 4,\n",
       "          'occupation': 2,\n",
       "          'requires': 7,\n",
       "          'relaxation': 1,\n",
       "          'bent': 1,\n",
       "          'care': 9,\n",
       "          'industry': 4,\n",
       "          'seems': 53,\n",
       "          'then': 52,\n",
       "          'pointed': 1,\n",
       "          'out': 18,\n",
       "          'mixed': 4,\n",
       "          'kind': 43,\n",
       "          'suitable': 8,\n",
       "          'race': 2,\n",
       "          'secretly': 2,\n",
       "          'admonished': 1,\n",
       "          'allow': 22,\n",
       "          'none': 5,\n",
       "          'biasses': 1,\n",
       "          'incapacitate': 1,\n",
       "          'occupations': 3,\n",
       "          'indulge': 5,\n",
       "          'your': 43,\n",
       "          'passion': 23,\n",
       "          'says': 7,\n",
       "          'she': 25,\n",
       "          'let': 22,\n",
       "          'reference': 3,\n",
       "          'thought': 41,\n",
       "          'researches': 12,\n",
       "          'prohibit': 1,\n",
       "          'severely': 1,\n",
       "          'punish': 1,\n",
       "          'pensive': 1,\n",
       "          'melancholy': 1,\n",
       "          'introduce': 5,\n",
       "          'endless': 1,\n",
       "          'uncertainty': 11,\n",
       "          'involve': 4,\n",
       "          'cold': 9,\n",
       "          'reception': 2,\n",
       "          'pretended': 14,\n",
       "          'discoveries': 3,\n",
       "          'meet': 10,\n",
       "          'communicated': 3,\n",
       "          'amidst': 2,\n",
       "          'were': 95,\n",
       "          'contented': 4,\n",
       "          'prefer': 1,\n",
       "          'throwing': 1,\n",
       "          'contempt': 2,\n",
       "          'latter': 21,\n",
       "          'might': 26,\n",
       "          'improper': 2,\n",
       "          'comply': 7,\n",
       "          'opposition': 12,\n",
       "          'matter': 85,\n",
       "          'often': 12,\n",
       "          'carried': 17,\n",
       "          'absolute': 11,\n",
       "          'rejecting': 3,\n",
       "          'what': 127,\n",
       "          'called': 7,\n",
       "          'we': 663,\n",
       "          'now': 28,\n",
       "          'proceed': 20,\n",
       "          'reasonably': 10,\n",
       "          'pleaded': 2,\n",
       "          'behalf': 1,\n",
       "          'begin': 6,\n",
       "          'observing': 6,\n",
       "          'considerable': 7,\n",
       "          'results': 1,\n",
       "          'subserviency': 1,\n",
       "          'humane': 1,\n",
       "          'former': 33,\n",
       "          'never': 125,\n",
       "          'attain': 10,\n",
       "          'sufficient': 23,\n",
       "          'degree': 40,\n",
       "          'exactness': 3,\n",
       "          'pictures': 2,\n",
       "          'attitudes': 1,\n",
       "          'situations': 3,\n",
       "          'inspire': 2,\n",
       "          'praise': 3,\n",
       "          'admiration': 3,\n",
       "          'ridicule': 2,\n",
       "          'qualities': 61,\n",
       "          'set': 11,\n",
       "          'before': 20,\n",
       "          'artist': 3,\n",
       "          'better': 12,\n",
       "          'qualified': 1,\n",
       "          'succeed': 1,\n",
       "          'undertaking': 1,\n",
       "          'besides': 12,\n",
       "          'delicate': 3,\n",
       "          'quick': 1,\n",
       "          'apprehension': 4,\n",
       "          'possesses': 3,\n",
       "          'knowledge': 37,\n",
       "          'internal': 12,\n",
       "          'fabric': 5,\n",
       "          'workings': 1,\n",
       "          'discriminate': 2,\n",
       "          'how': 37,\n",
       "          'painful': 4,\n",
       "          'soever': 1,\n",
       "          'inward': 9,\n",
       "          'search': 7,\n",
       "          'appear': 32,\n",
       "          'measure': 6,\n",
       "          'requisite': 18,\n",
       "          'would': 98,\n",
       "          'describe': 1,\n",
       "          'success': 6,\n",
       "          'outward': 7,\n",
       "          'appearances': 10,\n",
       "          'anatomist': 1,\n",
       "          'presents': 1,\n",
       "          'eye': 7,\n",
       "          'hideous': 1,\n",
       "          'disagreeable': 2,\n",
       "          'painter': 1,\n",
       "          'delineating': 1,\n",
       "          'venus': 1,\n",
       "          'helen': 1,\n",
       "          'employs': 3,\n",
       "          'richest': 1,\n",
       "          'art': 9,\n",
       "          'gives': 27,\n",
       "          'figures': 4,\n",
       "          'graceful': 1,\n",
       "          'airs': 3,\n",
       "          'carry': 21,\n",
       "          'attention': 17,\n",
       "          'structure': 5,\n",
       "          'body': 47,\n",
       "          'position': 4,\n",
       "          'muscles': 3,\n",
       "          'bones': 1,\n",
       "          'figure': 10,\n",
       "          'part': 46,\n",
       "          'organ': 6,\n",
       "          'case': 40,\n",
       "          'advantageous': 1,\n",
       "          'vain': 10,\n",
       "          'exalt': 1,\n",
       "          'depreciating': 1,\n",
       "          'observe': 26,\n",
       "          'profession': 1,\n",
       "          'concern': 2,\n",
       "          'spirit': 6,\n",
       "          'however': 29,\n",
       "          'carries': 7,\n",
       "          'renders': 16,\n",
       "          'subservient': 1,\n",
       "          'interests': 4,\n",
       "          'live': 3,\n",
       "          'carefully': 2,\n",
       "          'cultivated': 4,\n",
       "          'several': 15,\n",
       "          'gradually': 5,\n",
       "          'itself': 53,\n",
       "          'throughout': 6,\n",
       "          'bestow': 5,\n",
       "          'similar': 48,\n",
       "          'correctness': 1,\n",
       "          'calling': 2,\n",
       "          'politician': 4,\n",
       "          'acquire': 8,\n",
       "          'greater': 41,\n",
       "          'foresight': 3,\n",
       "          'subtility': 1,\n",
       "          'subdividing': 1,\n",
       "          'balancing': 1,\n",
       "          'power': 103,\n",
       "          'lawyer': 1,\n",
       "          'method': 20,\n",
       "          'finer': 3,\n",
       "          'regularity': 7,\n",
       "          'discipline': 2,\n",
       "          'caution': 6,\n",
       "          'plans': 1,\n",
       "          'stability': 3,\n",
       "          'modern': 5,\n",
       "          'governments': 1,\n",
       "          'ancient': 8,\n",
       "          'improved': 4,\n",
       "          'probably': 4,\n",
       "          'improve': 3,\n",
       "          'gradations': 1,\n",
       "          'there': 159,\n",
       "          'reaped': 1,\n",
       "          'studies': 1,\n",
       "          'gratification': 1,\n",
       "          'innocent': 6,\n",
       "          'ought': 21,\n",
       "          'accession': 1,\n",
       "          'few': 19,\n",
       "          'safe': 1,\n",
       "          'harmless': 4,\n",
       "          'pleasures': 2,\n",
       "          'bestowed': 3,\n",
       "          'sweetest': 1,\n",
       "          'inoffensive': 1,\n",
       "          'leads': 8,\n",
       "          'through': 21,\n",
       "          'avenues': 1,\n",
       "          'learning': 11,\n",
       "          'whoever': 3,\n",
       "          'remove': 12,\n",
       "          'obstructions': 1,\n",
       "          'way': 10,\n",
       "          'new': 54,\n",
       "          'prospect': 1,\n",
       "          'far': 30,\n",
       "          'esteemed': 7,\n",
       "          'benefactor': 1,\n",
       "          'fatiguing': 3,\n",
       "          'minds': 9,\n",
       "          'bodies': 21,\n",
       "          'endowed': 8,\n",
       "          'vigorous': 1,\n",
       "          'florid': 1,\n",
       "          'health': 6,\n",
       "          'severe': 2,\n",
       "          'exercise': 3,\n",
       "          'reap': 2,\n",
       "          'burdensome': 1,\n",
       "          'laborious': 1,\n",
       "          'obscurity': 10,\n",
       "          'indeed': 25,\n",
       "          'bring': 8,\n",
       "          'whatever': 19,\n",
       "          'needs': 1,\n",
       "          'delightful': 1,\n",
       "          'rejoicing': 1,\n",
       "          'objected': 2,\n",
       "          'inevitable': 2,\n",
       "          'here': 54,\n",
       "          'lies': 10,\n",
       "          'plausible': 3,\n",
       "          'objection': 11,\n",
       "          'against': 33,\n",
       "          'metaphysics': 10,\n",
       "          'properly': 8,\n",
       "          'fruitless': 6,\n",
       "          'efforts': 4,\n",
       "          'vanity': 5,\n",
       "          'penetrate': 2,\n",
       "          'subjects': 19,\n",
       "          'inaccessible': 2,\n",
       "          'craft': 1,\n",
       "          'superstitions': 1,\n",
       "          'unable': 1,\n",
       "          'defend': 4,\n",
       "          'fair': 2,\n",
       "          'ground': 6,\n",
       "          'raise': 5,\n",
       "          'intangling': 1,\n",
       "          'brambles': 1,\n",
       "          'cover': 2,\n",
       "          'protect': 3,\n",
       "          'weakness': 9,\n",
       "          'chaced': 1,\n",
       "          'country': 14,\n",
       "          'robbers': 1,\n",
       "          'fly': 3,\n",
       "          'forest': 1,\n",
       "          'wait': 1,\n",
       "          'break': 3,\n",
       "          'upon': 104,\n",
       "          'unguarded': 1,\n",
       "          'avenue': 1,\n",
       "          'overwhelm': 1,\n",
       "          'religious': 8,\n",
       "          'fears': 1,\n",
       "          'prejudices': 4,\n",
       "          'stoutest': 1,\n",
       "          'antagonist': 6,\n",
       "          'remit': 1,\n",
       "          'watch': 3,\n",
       "          'moment': 18,\n",
       "          'oppressed': 1,\n",
       "          'cowardice': 1,\n",
       "          'folly': 2,\n",
       "          'gates': 1,\n",
       "          'enemies': 6,\n",
       "          'willingly': 5,\n",
       "          'receive': 13,\n",
       "          'reverence': 2,\n",
       "          'submission': 2,\n",
       "          'legal': 4,\n",
       "          'sovereigns': 1,\n",
       "          'why': 28,\n",
       "          'desist': 1,\n",
       "          'leave': 12,\n",
       "          'superstition': 10,\n",
       "          'possession': 3,\n",
       "          'perceive': 11,\n",
       "          'carrying': 1,\n",
       "          'war': 1,\n",
       "          'secret': 29,\n",
       "          'recesses': 1,\n",
       "          'enemy': 4,\n",
       "          'do': 47,\n",
       "          'hope': 14,\n",
       "          'frequent': 5,\n",
       "          'disappointment': 2,\n",
       "          'last': 23,\n",
       "          'abandon': 1,\n",
       "          'airy': 1,\n",
       "          'province': 2,\n",
       "          'persons': 10,\n",
       "          'sensible': 44,\n",
       "          'interest': 6,\n",
       "          'perpetually': 1,\n",
       "          'recalling': 1,\n",
       "          'topics': 9,\n",
       "          'say': 36,\n",
       "          'motive': 4,\n",
       "          'blind': 6,\n",
       "          'despair': 3,\n",
       "          'since': 24,\n",
       "          'unsuccessful': 2,\n",
       "          'attempts': 8,\n",
       "          'proved': 14,\n",
       "          'room': 7,\n",
       "          'good': 27,\n",
       "          'fortune': 5,\n",
       "          'sagacity': 4,\n",
       "          'succeeding': 3,\n",
       "          'generations': 3,\n",
       "          'reach': 20,\n",
       "          'unknown': 21,\n",
       "          'ages': 18,\n",
       "          'adventurous': 1,\n",
       "          'leap': 3,\n",
       "          'prize': 1,\n",
       "          'stimulated': 1,\n",
       "          'discouraged': 1,\n",
       "          'failures': 1,\n",
       "          'predecessors': 1,\n",
       "          'hopes': 5,\n",
       "          'achieving': 1,\n",
       "          'hard': 6,\n",
       "          'adventure': 1,\n",
       "          'reserved': 1,\n",
       "          'him': 55,\n",
       "          'alone': 27,\n",
       "          'freeing': 1,\n",
       "          'once': 14,\n",
       "          'questions': 9,\n",
       "          'enquire': 7,\n",
       "          'seriously': 2,\n",
       "          'show': 11,\n",
       "          'exact': 7,\n",
       "          'analysis': 2,\n",
       "          'powers': 32,\n",
       "          'capacity': 12,\n",
       "          'fatigue': 1,\n",
       "          'ease': 5,\n",
       "          'destroy': 15,\n",
       "          'false': 13,\n",
       "          'adulterate': 1,\n",
       "          'indolence': 3,\n",
       "          'affords': 4,\n",
       "          'safeguard': 1,\n",
       "          'deceitful': 3,\n",
       "          'others': 21,\n",
       "          'overbalanced': 1,\n",
       "          'moments': 1,\n",
       "          'prevails': 1,\n",
       "          'afterwards': 7,\n",
       "          'sanguine': 1,\n",
       "          'expectations': 3,\n",
       "          'catholic': 3,\n",
       "          'remedy': 3,\n",
       "          'dispositions': 5,\n",
       "          'subvert': 2,\n",
       "          'metaphysical': 7,\n",
       "          'jargon': 2,\n",
       "          'impenetrable': 1,\n",
       "          'careless': 2,\n",
       "          'air': 6,\n",
       "          'wisdom': 9,\n",
       "          'deliberate': 1,\n",
       "          'uncertain': 11,\n",
       "          'positive': 3,\n",
       "          'advantages': 5,\n",
       "          'faculties': 24,\n",
       "          'remarkable': 3,\n",
       "          'intimately': 2,\n",
       "          'whenever': 5,\n",
       "          'become': 17,\n",
       "          'reflexion': 4,\n",
       "          'involved': 5,\n",
       "          'readily': 19,\n",
       "          'lines': 1,\n",
       "          'boundaries': 7,\n",
       "          'distinguish': 4,\n",
       "          'fine': 3,\n",
       "          'remain': 15,\n",
       "          'long': 33,\n",
       "          'same': 136,\n",
       "          'aspect': 1,\n",
       "          'situation': 12,\n",
       "          'apprehended': 2,\n",
       "          'instant': 3,\n",
       "          'superior': 18,\n",
       "          'penetration': 4,\n",
       "          'derived': 52,\n",
       "          'habit': 8,\n",
       "          'therefore': 83,\n",
       "          'inconsiderable': 3,\n",
       "          'barely': 2,\n",
       "          'know': 52,\n",
       "          'separate': 3,\n",
       "          'class': 3,\n",
       "          'heads': 1,\n",
       "          'correct': 3,\n",
       "          'seeming': 5,\n",
       "          'disorder': 3,\n",
       "          'made': 13,\n",
       "          'ordering': 1,\n",
       "          'distinguishing': 1,\n",
       "          'performed': 11,\n",
       "          'external': 35,\n",
       "          'senses': 63,\n",
       "          'rises': 2,\n",
       "          'directed': 6,\n",
       "          'towards': 15,\n",
       "          'proportion': 14,\n",
       "          'difficulty': 25,\n",
       "          'performing': 5,\n",
       "          'go': 8,\n",
       "          'mental': 8,\n",
       "          'geography': 5,\n",
       "          'delineation': 1,\n",
       "          ...})"
      ]
     },
     "execution_count": 66,
     "metadata": {},
     "output_type": "execute_result"
    }
   ],
   "source": [
    "theLowerFreqs = nltk.FreqDist(theLowerTokens)\n",
    "theLowerFreqs"
   ]
  },
  {
   "cell_type": "code",
   "execution_count": 40,
   "metadata": {},
   "outputs": [
    {
     "name": "stdout",
     "output_type": "stream",
     "text": [
      " the   of  and   to will them they   is  not  was \n",
      "  27   23   19   13    9    8    7    6    6    5 \n"
     ]
    }
   ],
   "source": [
    "theLowerFreqs.tabulate(10)"
   ]
  },
  {
   "cell_type": "code",
   "execution_count": 19,
   "metadata": {},
   "outputs": [
    {
     "data": {
      "text/plain": [
       "21"
      ]
     },
     "execution_count": 19,
     "metadata": {},
     "output_type": "execute_result"
    }
   ],
   "source": [
    "theLowerFreqs[\"truth\"]"
   ]
  },
  {
   "cell_type": "markdown",
   "metadata": {},
   "source": [
    "Rather than get the count we can get the relative frequency which is the count divided by the number of tokens. This can be very useful for comparing across documents."
   ]
  },
  {
   "cell_type": "code",
   "execution_count": 28,
   "metadata": {},
   "outputs": [
    {
     "data": {
      "text/plain": [
       "0.07180851063829788"
      ]
     },
     "execution_count": 28,
     "metadata": {},
     "output_type": "execute_result"
    }
   ],
   "source": [
    "theLowerFreqs.freq(\"the\")"
   ]
  },
  {
   "cell_type": "markdown",
   "metadata": {},
   "source": [
    "## 3.0 Plot the Frequency of Words\n",
    "We can also plot the high frequency words."
   ]
  },
  {
   "cell_type": "code",
   "execution_count": 67,
   "metadata": {},
   "outputs": [
    {
     "data": {
      "image/png": "[encoded data removed]",
      "text/plain": [
       "<matplotlib.figure.Figure at 0x1172cab70>"
      ]
     },
     "metadata": {},
     "output_type": "display_data"
    }
   ],
   "source": [
    "%matplotlib inline\n",
    "theLowerFreqs.plot(30)"
   ]
  },
  {
   "cell_type": "markdown",
   "metadata": {},
   "source": [
    "### 3.1 Plotting Content Words\n",
    "\n",
    "What if we want a to see just the high frequency content words. Here we get the NLTK English stopword list."
   ]
  },
  {
   "cell_type": "code",
   "execution_count": 68,
   "metadata": {},
   "outputs": [
    {
     "name": "stdout",
     "output_type": "stream",
     "text": [
      "['i', 'me', 'my', 'myself', 'we', 'our', 'ours', 'ourselves', 'you', 'your', 'yours', 'yourself', 'yourselves', 'he', 'him', 'his', 'himself', 'she', 'her', 'hers']\n"
     ]
    }
   ],
   "source": [
    "stopwords = nltk.corpus.stopwords.words(\"english\")\n",
    "print(stopwords[:20])"
   ]
  },
  {
   "cell_type": "markdown",
   "metadata": {},
   "source": [
    "We need to create a new list of tokens without the stopwords."
   ]
  },
  {
   "cell_type": "code",
   "execution_count": 69,
   "metadata": {},
   "outputs": [
    {
     "data": {
      "text/plain": [
       "['project',\n",
       " 'gutenberg',\n",
       " 'ebook',\n",
       " 'enquiry',\n",
       " 'concerning',\n",
       " 'human',\n",
       " 'understanding',\n",
       " 'david',\n",
       " 'hume',\n",
       " 'l.']"
      ]
     },
     "execution_count": 69,
     "metadata": {},
     "output_type": "execute_result"
    }
   ],
   "source": [
    "theLowerContentWords = []\n",
    "\n",
    "for token in theLowerTokens:\n",
    "    if token not in stopwords:\n",
    "        theLowerContentWords.append(token)\n",
    "\n",
    "theLowerContentWords[:10]"
   ]
  },
  {
   "cell_type": "code",
   "execution_count": 70,
   "metadata": {
    "collapsed": true
   },
   "outputs": [],
   "source": [
    "theLowerContentWords = [token for token in theLowerTokens if token not in stopwords]"
   ]
  },
  {
   "cell_type": "markdown",
   "metadata": {},
   "source": [
    "Now we can a table of high frequency content words."
   ]
  },
  {
   "cell_type": "code",
   "execution_count": 72,
   "metadata": {},
   "outputs": [
    {
     "name": "stdout",
     "output_type": "stream",
     "text": [
      "       may        one     nature       must         us experience      cause      human \n",
      "       295        203        200        177        169        166        157        149 \n"
     ]
    }
   ],
   "source": [
    "theLowerContFreqs = nltk.FreqDist(theLowerContentWords)\n",
    "\n",
    "theLowerContFreqs.tabulate(8)"
   ]
  },
  {
   "cell_type": "markdown",
   "metadata": {},
   "source": [
    "**Question**: How would you add the stopwords to get rid of words like \"may\", \"one\", \"must\", \"us\"?"
   ]
  },
  {
   "cell_type": "markdown",
   "metadata": {},
   "source": [
    "And now we get the Frequency Distribution and plot it."
   ]
  },
  {
   "cell_type": "code",
   "execution_count": 73,
   "metadata": {},
   "outputs": [
    {
     "data": {
      "image/png": "[encoded data removed]",
      "text/plain": [
       "<matplotlib.figure.Figure at 0x116674fd0>"
      ]
     },
     "metadata": {},
     "output_type": "display_data"
    }
   ],
   "source": [
    "theLowerContFreqs.plot(30)"
   ]
  },
  {
   "cell_type": "markdown",
   "metadata": {},
   "source": [
    "We might also want to check how these words are used by looking at their concordance."
   ]
  },
  {
   "cell_type": "code",
   "execution_count": 74,
   "metadata": {},
   "outputs": [
    {
     "name": "stdout",
     "output_type": "stream",
     "text": [
      "Displaying 25 of 166 matches:\n",
      "ials afforded us by the senses and experience . When we think of a golden mounta\n",
      "priori_ ; but arises entirely from experience , when we find that any particular\n",
      "nor can our reason , unassisted by experience , ever draw any inference concerni\n",
      "dily confessed to be known only by experience ; nor does any man imagine that th\n",
      "ibuting all our knowledge of it to experience . Who will assert that he can give\n",
      " operation of our reason , without experience . We fancy , that were we brought \n",
      "hout exception , are known only by experience , the following reflections may , \n",
      "s arbitrary , where we consult not experience ; so must we also esteem the suppo\n",
      " the assistance of observation and experience . 26 . Hence we may discover the r\n",
      "means of reasonings from analogy , experience , and observation . But as to the \n",
      "gs are employed , either to assist experience in the discovery of these laws , o\n",
      "is a law of motion , discovered by experience , that the moment or force of any \n",
      " the law itself is owing merely to experience , and all the abstract reasonings \n",
      " _ it may be replied in one word , Experience . But if we still carry on our sif\n",
      "foundation of all conclusions from experience ? _ this implies a new question , \n",
      "y then , that , even after we have experience of the operations of cause and eff\n",
      "effect , our conclusions from that experience are _not_ founded on reasoning , o\n",
      "nder its cognizance : but why this experience should be extended to future times\n",
      " by arguments to put trust in past experience , and make it the standard of our \n",
      " relation is derived entirely from experience ; and that all our experimental co\n",
      " . In reality , all arguments from experience are founded on the similarity whic\n",
      "retend to dispute the authority of experience , or to reject that great guide of\n",
      "ich gives this mighty authority to experience , and makes us draw advantage from\n",
      " as after ever so long a course of experience . But the case is far otherwise . \n",
      "ble qualities , without the aid of experience ; contrary to the sentiment of all\n"
     ]
    }
   ],
   "source": [
    "theText.concordance(\"experience\", width=80)"
   ]
  },
  {
   "cell_type": "markdown",
   "metadata": {},
   "source": [
    "## 4. Collocations, Similar Words, and Contexts\n",
    "\n",
    "### 4.1 Collocations\n",
    "\n",
    "NLTK will also let you explore co-locating words by which is meant sets of two or more words that appear frequently together."
   ]
  },
  {
   "cell_type": "code",
   "execution_count": 75,
   "metadata": {},
   "outputs": [
    {
     "name": "stdout",
     "output_type": "stream",
     "text": [
      "Project Gutenberg-tm; Project Gutenberg; Literary Archive; Gutenberg-\n",
      "tm electronic; common life; Archive Foundation; electronic works;\n",
      "Gutenberg Literary; sensible qualities; United States\n"
     ]
    }
   ],
   "source": [
    "theText.collocations(10)"
   ]
  },
  {
   "cell_type": "markdown",
   "metadata": {},
   "source": [
    "Note how we are getting a lot of bigrams with \"Gutenberg\". That's because NLTK looks for bigrams where the words appear together more often than alone. If you ask for more collocations you can see some that have to do with the text."
   ]
  },
  {
   "cell_type": "code",
   "execution_count": 27,
   "metadata": {},
   "outputs": [
    {
     "name": "stdout",
     "output_type": "stream",
     "text": [
      "Project Gutenberg-tm; Project Gutenberg; Literary Archive; Gutenberg-\n",
      "tm electronic; common life; Archive Foundation; electronic works;\n",
      "Gutenberg Literary; sensible qualities; United States; external\n",
      "objects; human nature; set forth; human testimony; voluntary actions;\n",
      "electronic work; necessary connexion; public domain; secret powers;\n",
      "Gutenberg-tm License; regular conjunction; human life; _in infinitum_;\n",
      "reasonings concerning; usual attendant; one object; constantly\n",
      "conjoined; David Hume; universally allowed; human understanding; seems\n",
      "evident; concerning matter; Human Understanding; copyright holder;\n",
      "take place; simple ideas; real existence; every moment; may observe;\n",
      "shall find; certain degree; infinitely less; CONCERNING HUMAN; ENQUIRY\n",
      "CONCERNING; HUMAN UNDERSTANDING; PROJECT GUTENBERG; past experience;\n",
      "Enquiry Concerning; one event; give rise; good fortune; conjoined\n",
      "together; human actions; customary transition; infinite number; must\n",
      "confess; constant conjunction; common sense; narrow limits; mutual\n",
      "destruction; strictly examined; first appearance; conclusions\n",
      "concerning; one instance; primary qualities; Concerning Human; mental\n",
      "geography; physical points; experimental reasoning; universally\n",
      "acknowledged; natural instinct; inward sentiment; universal doubt;\n",
      "paragraph 1.F.3; two kinds; may serve; new effects; uniform\n",
      "experience; usual course; Distributed Proofreaders; Jonathan Ingram;\n",
      "Plain Vanilla; Vanilla ASCII; _Christian Religion_; _necessary\n",
      "connexion_; _vis inertiae_; secondary qualities; natural events;\n",
      "derivative works; Gutenberg-tm trademark; greater variety; well known;\n",
      "distinctly conceived; may seem; strong presumption; divine existence;\n",
      "similar instances; draw inferences; human reason; human action\n"
     ]
    }
   ],
   "source": [
    "theText.collocations(100)"
   ]
  },
  {
   "cell_type": "markdown",
   "metadata": {},
   "source": [
    "### 4.2 Similar Words\n",
    "\n",
    "We can get words that are **similar** to target words. These are not synonyms but words being used in similar contexts. You can use this to expland on a word you are interested in."
   ]
  },
  {
   "cell_type": "code",
   "execution_count": 76,
   "metadata": {},
   "outputs": [
    {
     "name": "stdout",
     "output_type": "stream",
     "text": [
      "cause reason nature men it ideas necessity mankind action objects\n",
      "conduct them body power experience resemblance first miracles science\n",
      "life\n"
     ]
    }
   ],
   "source": [
    "theText.similar(\"truth\")"
   ]
  },
  {
   "cell_type": "markdown",
   "metadata": {},
   "source": [
    "You can use this to get concordances of sets of similar words."
   ]
  },
  {
   "cell_type": "code",
   "execution_count": 55,
   "metadata": {},
   "outputs": [
    {
     "name": "stdout",
     "output_type": "stream",
     "text": [
      "REASON: \n",
      "Displaying 5 of 116 matches:\n",
      "Of Liberty and Necessity IX . Of the Reason of Animals X . Of Miracles XI . Of a\n",
      "eigns . 7 . But is this a sufficient reason , why philosophers should desist fro\n",
      "iscover the proper province of human reason . For , besides , that many persons \n",
      "er parts of nature . And there is no reason to despair of equal success in our e\n",
      "RT I . 20 . All the objects of human reason or enquiry may naturally be divided \n",
      "--------------------------------------------------\n",
      "\n",
      "FACT: \n",
      "Displaying 5 of 89 matches:\n",
      "tainty and evidence . 21 . Matters of fact , which are the second objects of hum\n",
      "ing . The contrary of every matter of fact is still possible ; because it can ne\n",
      "s of any real existence and matter of fact , beyond the present testimony of our\n",
      ". All reasonings concerning matter of fact seem to be founded on the relation of\n",
      "a man , why he believes any matter of fact , which is absent ; for instance , th\n",
      "--------------------------------------------------\n",
      "\n",
      "KNOWLEDGE: \n",
      "Displaying 5 of 37 matches:\n",
      "prehension , possesses an accurate knowledge of the internal fabric , the opera\n",
      " make any addition to our stock of knowledge , in subjects of such unspeakable \n",
      " letter received from him , or the knowledge of his former resolutions and prom\n",
      " must enquire how we arrive at the knowledge of cause and effect . I shall vent\n",
      " admits of no exception , that the knowledge of this relation is not , in any i\n",
      "--------------------------------------------------\n",
      "\n",
      "IDEAS: \n",
      "Displaying 5 of 120 matches:\n",
      " of Philosophy II . Of the Origin of Ideas III . Of the Association of Ideas IV\n",
      "of Ideas III . Of the Association of Ideas IV . Sceptical Doubts concerning the\n",
      "rror ! SECTION II . OF THE ORIGIN OF IDEAS . 11 . Every one will readily allow \n",
      "d impressions are distinguished from ideas , which are the less lively percepti\n",
      "untain , we only join two consistent ideas , _gold_ , and _mountain_ , with whi\n",
      "--------------------------------------------------\n",
      "\n"
     ]
    }
   ],
   "source": [
    "listOfWords2Conc = [\"reason\",\"fact\",\"knowledge\",\"ideas\"]\n",
    "for i in listOfWords2Conc:\n",
    "    print(i.upper() + \": \")\n",
    "    theText.concordance(i, width=80, lines=5)\n",
    "    print(\"--------------------------------------------------\\n\")"
   ]
  },
  {
   "cell_type": "markdown",
   "metadata": {},
   "source": [
    "### 4.3 Common Contexts\n",
    "\n",
    "NLTK can give us common contexts for words that share them."
   ]
  },
  {
   "cell_type": "code",
   "execution_count": 29,
   "metadata": {},
   "outputs": [
    {
     "name": "stdout",
     "output_type": "stream",
     "text": [
      "human_it of_but by_to of_are the_and by_that this_he in_and of_which\n",
      "from_and\n"
     ]
    }
   ],
   "source": [
    "theText.common_contexts([\"nature\", \"experience\"],10)"
   ]
  },
  {
   "cell_type": "markdown",
   "metadata": {},
   "source": [
    "## Finding Patterns\n",
    "\n",
    "We can use Regular Expressions on tokens with the ```findall``` method of the Text object. Some guidelines:\n",
    "\n",
    "* You are matching to tokens, not the raw text. The < and > indicate the token.\n",
    "* ```<.*>``` matches any token as ```.``` means any character and ```*``` means 0 or more of. ```?``` would mean \n",
    "* the paranthesis tell IPython what to show from the match. In first example below you can see how to show all the words right before the word you want.\n",
    "\n",
    "Here are some examples."
   ]
  },
  {
   "cell_type": "code",
   "execution_count": 30,
   "metadata": {},
   "outputs": [
    {
     "name": "stdout",
     "output_type": "stream",
     "text": [
      "and; from; by; by; to; without; by; not; and; ,; assist; by; to; from;\n",
      "have; that; this; past; from; from; of; to; of; of; by; from; all;\n",
      "from; past; by; from; more; more; this; his; from; from; and; of; and;\n",
      "pure; is; farther; of; our; from; daily; any; and; from; without;\n",
      "from; by; besides; of; from; And; common; by; we; by; except; certain;\n",
      "by; and; and; fancied; of; by; without; have; this; have; this;\n",
      "uniform; and; that; of; no; and; past; past; the; our; seeming; from;\n",
      "and; not; even; past; greater; 's; and; Though; to; of; infallible;\n",
      "past; our; by; past; the; from; this; of; uniform; his; have; uniform;\n",
      "unalterable; from; uniform; uniform; no; we; regular; is; same; of;\n",
      "the; and; from; past; my; human; make; same; by; in; other; from; of;\n",
      "If; By; here; any; from; our; and; on; only; by; from; from; by; from;\n",
      "long; by; from; from; and; of; by; uniform; and; of; by; .; to; for;\n",
      "only; from; .\n"
     ]
    }
   ],
   "source": [
    "theText.findall(\"(<.*>)<experience>\")"
   ]
  },
  {
   "cell_type": "code",
   "execution_count": 31,
   "metadata": {},
   "outputs": [
    {
     "name": "stdout",
     "output_type": "stream",
     "text": [
      "of human nature; regard human nature; , that nature; into the nature;\n",
      "of human nature; derived from nature; parts of nature; concerning\n",
      "human nature; limits of nature; , where nature; concerning their\n",
      "nature; triangle in nature; a like nature; is the nature; the same\n",
      "nature; of this nature; concerning the nature; course of nature;\n",
      "course of nature; laws of nature; discover in nature; established by\n",
      "nature; is the nature; , that nature; of their nature; course of\n",
      "nature; of human nature; similarity which nature; Of what nature;\n",
      "course of nature; learned the nature; Their secret nature; and\n",
      "transitory nature; as human nature; of human nature; priori_ the\n",
      "nature; of human nature; of human nature; of this nature; accurately\n",
      "the nature; excited by nature; the whole nature; the peculiar nature;\n",
      "observed that nature; the same nature; a similar nature; course of\n",
      "nature; works of nature; wisdom of nature; . As nature; the very\n",
      "nature; contrivance of nature; constitutes the nature; irregularity in\n",
      "nature; how soon nature; productions in nature; in all nature; and the\n",
      "nature; with the nature; and the nature; with the nature; scenes of\n",
      "nature; operations of nature; powers of nature; appears in nature;\n",
      "force in nature; author of nature; They rob nature; throughout all\n",
      "nature; course of nature; of this nature; laws of nature; scenes of\n",
      "nature; operations of nature; operations of nature; that human nature;\n",
      "of human nature; with the nature; course of nature; of human nature;\n",
      "of human nature; part of nature; characters which nature; course of\n",
      "nature; part of nature; laws of nature; of human nature; part of\n",
      "nature; the same nature; the inflexible nature; but their nature; of\n",
      "human nature; a similar nature; powers of nature; being in nature;\n",
      "their very nature; of that nature; phenomena of nature; system of\n",
      "nature; formed by nature; intention of nature; of the nature; course\n",
      "of nature; of this nature; uniformity of nature; hand of nature; a\n",
      "like nature; in human nature; state of nature; is placing nature;\n",
      "course of nature; laws of nature; the very nature; laws of nature;\n",
      "course of nature; from the nature; laws of nature; laws of nature;\n",
      "laws of nature; contrary to nature; law of nature; not its nature; in\n",
      "human nature; frame of nature; from human nature; the public nature;\n",
      "_singular_ a nature; of this nature; or miraculous nature; by the\n",
      "nature; of this nature; laws of nature; the very nature; laws of\n",
      "nature; course of nature; dissolution of nature; laws of nature;\n",
      "course of nature; laws of nature; extraordinary in nature; of human\n",
      "nature; of human nature; order of nature; phenomena of nature;\n",
      "phenomena in nature; appearances of nature; appearances of nature;\n",
      "course of nature; course of nature; course of nature; order of nature;\n",
      "course of nature; course of nature; course of nature; course of\n",
      "nature; course of nature; order of nature; laws which nature; with the\n",
      "nature; works of nature; works of nature; Author of nature; course of\n",
      "nature; In human nature; course of nature; delicate a nature;\n",
      "particular a nature; of this nature; a like nature; from the nature;\n",
      "instinct of nature; instincts of nature; instinct of nature; contrary\n",
      "a nature; a like nature; propensities of nature; a like nature; of our\n",
      "nature; of our nature; necessities of nature; in human nature;\n",
      "situation of nature; us the nature; course of nature; entrusted by\n",
      "nature; production in nature; . Human nature; course of nature; in\n",
      "human nature; of human nature; course of nature; , for nature; design\n",
      "in nature; appears in nature; match for nature\n"
     ]
    }
   ],
   "source": [
    "theText.findall(\"<.*><.*><nature>\")"
   ]
  },
  {
   "cell_type": "code",
   "execution_count": 32,
   "metadata": {},
   "outputs": [
    {
     "name": "stdout",
     "output_type": "stream",
     "text": [
      "talk of; is a; and a; , and; of their; the same; love of; . The;\n",
      "discovery of; for the; for the; inclination to; distinguish between;\n",
      "violation of; violations of; depart from; to reach; _criteria_ of;\n",
      "with great; love of\n"
     ]
    }
   ],
   "source": [
    "theText.findall(\"(<.*><.*>)<truth>\")"
   ]
  },
  {
   "cell_type": "code",
   "execution_count": 33,
   "metadata": {},
   "outputs": [
    {
     "name": "stdout",
     "output_type": "stream",
     "text": [
      "not universally true; not a true; not true\n"
     ]
    }
   ],
   "source": [
    "theText.findall(\"<not><.*>?<true>\")"
   ]
  },
  {
   "cell_type": "markdown",
   "metadata": {},
   "source": [
    "---\n",
    "# Homework: Exploring a Text\n",
    "Using the NLTK tools create a notebook that explores the text assembled of works by an author. Can you infer anything interested from the text. Explain what you find in the notebook.\n",
    "\n",
    "How would you check that your inferences are valid? "
   ]
  },
  {
   "cell_type": "code",
   "execution_count": null,
   "metadata": {
    "collapsed": true
   },
   "outputs": [],
   "source": []
  }
 ],
 "metadata": {
  "kernelspec": {
   "display_name": "Python 3",
   "language": "python",
   "name": "python3"
  },
  "language_info": {
   "codemirror_mode": {
    "name": "ipython",
    "version": 3
   },
   "file_extension": ".py",
   "mimetype": "text/x-python",
   "name": "python",
   "nbconvert_exporter": "python",
   "pygments_lexer": "ipython3",
   "version": "3.6.1"
  }
 },
 "nbformat": 4,
 "nbformat_minor": 1
}

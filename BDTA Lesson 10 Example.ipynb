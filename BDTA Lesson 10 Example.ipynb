{
 "cells": [
  {
   "cell_type": "markdown",
   "metadata": {},
   "source": [
    "# Basic CSV: Example\n",
    "This Notebook is the "
   ]
  },
  {
   "cell_type": "markdown",
   "metadata": {},
   "source": [
    "## Finding the file"
   ]
  },
  {
   "cell_type": "markdown",
   "metadata": {},
   "source": [
    "First we see what files we have."
   ]
  },
  {
   "cell_type": "code",
   "execution_count": 2,
   "metadata": {},
   "outputs": [
    {
     "name": "stdout",
     "output_type": "stream",
     "text": [
      "AdamSavageComments.csv    MockInterviewCorpus..csv\r\n"
     ]
    }
   ],
   "source": [
    "%ls *csv"
   ]
  },
  {
   "cell_type": "markdown",
   "metadata": {},
   "source": [
    "## Importing the appropriate column\n",
    "\n",
    "Now we import colum 4 (the 5th column) of data."
   ]
  },
  {
   "cell_type": "markdown",
   "metadata": {},
   "source": [
    "### Importing with conditions\n",
    "\n",
    "We can also make decisions based on other columns. We want to see if \"MA\" or \"PHD\" is in column 3 (fourth column)."
   ]
  },
  {
   "cell_type": "code",
   "execution_count": 4,
   "metadata": {},
   "outputs": [
    {
     "data": {
      "text/plain": [
       "4"
      ]
     },
     "execution_count": 4,
     "metadata": {},
     "output_type": "execute_result"
    }
   ],
   "source": [
    "import csv\n",
    "comments = []\n",
    "with open('MockInterviewCorpus.csv', 'r') as file: # This makes sure that file is closed after reading\n",
    "    data = csv.reader(file)\n",
    "    for row in data:\n",
    "        if \"MA\" in row[3] or \"PHD\" in row[3]:\n",
    "            comments.append(row[6]) # This puts all the data into a list\n",
    "    file.close()       \n",
    "\n",
    "len(comments)"
   ]
  },
  {
   "cell_type": "markdown",
   "metadata": {},
   "source": [
    "Now we can check what answers we got."
   ]
  },
  {
   "cell_type": "code",
   "execution_count": 6,
   "metadata": {},
   "outputs": [
    {
     "name": "stdout",
     "output_type": "stream",
     "text": [
      "[\"I have an extremely strong work ethic. When I'm working on a project, I don't want just to meet deadlines. Rather, I prefer to complete the project well ahead of schedule. Last year, I even earned a bonus for completing my three most recent reports one week ahead of time.\", \"When I'm working on a project, I don't want just to meet deadlines. Rather, I prefer to complete the project well ahead of schedule.\", \"I am a skilled salesman with over ten years of experience. I have exceeded my sales goals every quarter and I've earned a bonus each year since I started with my current employer.\", \"I like to make sure that my work is perfect, so I tend to perhaps spend a little too much time checking it. However, I've come to a good balance by setting up a system to ensure everything is done the first time correctly.\"]\n"
     ]
    }
   ],
   "source": [
    "print(comments) # Here we check the list"
   ]
  },
  {
   "cell_type": "markdown",
   "metadata": {},
   "source": [
    "## Convert list to string\n",
    "\n",
    "If we want to use our text tools we need to convert the items in the list into a nice text."
   ]
  },
  {
   "cell_type": "code",
   "execution_count": 7,
   "metadata": {},
   "outputs": [
    {
     "name": "stdout",
     "output_type": "stream",
     "text": [
      "\n",
      "\n",
      "When I'm working on a project, I don't want just to meet deadlines. Rather, I prefer to complete t\n"
     ]
    }
   ],
   "source": [
    "theWholeText = \"\"\n",
    "\n",
    "for comment in comments[1:]:\n",
    "    theWholeText = theWholeText + \"\\n\\n\" + comment\n",
    "    \n",
    "print(theWholeText[0:100]) # We check by printing first 100 characters of the string"
   ]
  },
  {
   "cell_type": "markdown",
   "metadata": {},
   "source": [
    "## Tokenize"
   ]
  },
  {
   "cell_type": "code",
   "execution_count": 9,
   "metadata": {},
   "outputs": [],
   "source": [
    "import re\n",
    "tokens = re.findall(r'\\b\\w[\\w-]*\\b', theWholeText.lower())\n",
    "count = len(tokens)"
   ]
  },
  {
   "cell_type": "markdown",
   "metadata": {},
   "source": [
    "## Count Words"
   ]
  },
  {
   "cell_type": "code",
   "execution_count": 32,
   "metadata": {},
   "outputs": [
    {
     "name": "stdout",
     "output_type": "stream",
     "text": [
      "Counter({'i': 10, 'a': 6, 'to': 6, 'my': 3, 'project': 2, 'the': 2, 'of': 2, 'with': 2, 've': 2, 'is': 2, 'time': 2, 'when': 1, 'm': 1, 'working': 1, 'on': 1, 'don': 1, 't': 1, 'want': 1, 'just': 1, 'meet': 1, 'deadlines': 1, 'rather': 1, 'prefer': 1, 'complete': 1, 'well': 1, 'ahead': 1, 'schedule': 1, 'am': 1, 'skilled': 1, 'salesman': 1, 'over': 1, 'ten': 1, 'years': 1, 'experience': 1, 'have': 1, 'exceeded': 1, 'sales': 1, 'goals': 1, 'every': 1, 'quarter': 1, 'and': 1, 'earned': 1, 'bonus': 1, 'each': 1, 'year': 1, 'since': 1, 'started': 1, 'current': 1, 'employer': 1, 'like': 1, 'make': 1, 'sure': 1, 'that': 1, 'work': 1, 'perfect': 1, 'so': 1, 'tend': 1, 'perhaps': 1, 'spend': 1, 'little': 1, 'too': 1, 'much': 1, 'checking': 1, 'it': 1, 'however': 1, 'come': 1, 'good': 1, 'balance': 1, 'by': 1, 'setting': 1, 'up': 1, 'system': 1, 'ensure': 1, 'everything': 1, 'done': 1, 'first': 1, 'correctly': 1})\n"
     ]
    }
   ],
   "source": [
    "from collections import Counter\n",
    "theCounts = Counter(tokens)\n",
    "print(theCounts)"
   ]
  },
  {
   "cell_type": "code",
   "execution_count": 33,
   "metadata": {},
   "outputs": [
    {
     "data": {
      "text/plain": [
       "collections.Counter"
      ]
     },
     "execution_count": 33,
     "metadata": {},
     "output_type": "execute_result"
    }
   ],
   "source": [
    "type(theCounts)"
   ]
  },
  {
   "cell_type": "code",
   "execution_count": 36,
   "metadata": {},
   "outputs": [
    {
     "data": {
      "text/plain": [
       "1"
      ]
     },
     "execution_count": 36,
     "metadata": {},
     "output_type": "execute_result"
    }
   ],
   "source": [
    "theCounts[\"like\"]"
   ]
  },
  {
   "cell_type": "code",
   "execution_count": null,
   "metadata": {
    "collapsed": true
   },
   "outputs": [],
   "source": []
  }
 ],
 "metadata": {
  "kernelspec": {
   "display_name": "Python 3",
   "language": "python",
   "name": "python3"
  },
  "language_info": {
   "codemirror_mode": {
    "name": "ipython",
    "version": 3
   },
   "file_extension": ".py",
   "mimetype": "text/x-python",
   "name": "python",
   "nbconvert_exporter": "python",
   "pygments_lexer": "ipython3",
   "version": "3.6.1"
  }
 },
 "nbformat": 4,
 "nbformat_minor": 1
}

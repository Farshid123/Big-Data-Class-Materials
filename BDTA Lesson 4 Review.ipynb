{
 "cells": [
  {
   "cell_type": "markdown",
   "metadata": {},
   "source": [
    "# Review\n",
    "\n",
    "This notebook reviews some of the concepts learned last week."
   ]
  },
  {
   "cell_type": "markdown",
   "metadata": {},
   "source": [
    "## More on Navigator\n",
    "\n",
    "We have used Navigator just to launch Jupyter. There are other things we can do.\n",
    "\n",
    "* Environment - upgrading modules\n",
    "    * Logging in\n",
    "* Learning - accessing different forms of help\n",
    "    * Other sources of help"
   ]
  },
  {
   "cell_type": "markdown",
   "metadata": {},
   "source": [
    "## More on Jupyter\n",
    "\n",
    "Here are some more features of Jupyter.\n",
    "\n",
    "* Saving a checkpoint\n",
    "    * Reverting to a checkpoint\n",
    "* Running individual cells or all\n",
    "    * Order of operations\n",
    "* Clearning Outputs"
   ]
  },
  {
   "cell_type": "markdown",
   "metadata": {},
   "source": [
    "----\n",
    "# Code Review\n",
    "\n",
    "* Datatypes\n",
    "* Expressions \n",
    "* ```print()``` function\n",
    "* Strings\n",
    "* Variables\n",
    "* Importing modules (libraries)\n",
    "* Lists"
   ]
  },
  {
   "cell_type": "code",
   "execution_count": null,
   "metadata": {
    "collapsed": true
   },
   "outputs": [],
   "source": [
    "type(4)"
   ]
  },
  {
   "cell_type": "code",
   "execution_count": null,
   "metadata": {
    "collapsed": true
   },
   "outputs": [],
   "source": [
    "type(4 / 2)"
   ]
  },
  {
   "cell_type": "code",
   "execution_count": null,
   "metadata": {
    "collapsed": true
   },
   "outputs": [],
   "source": [
    "type(print)"
   ]
  },
  {
   "cell_type": "code",
   "execution_count": null,
   "metadata": {
    "collapsed": true
   },
   "outputs": [],
   "source": [
    "type(\"banana\")"
   ]
  },
  {
   "cell_type": "code",
   "execution_count": null,
   "metadata": {},
   "outputs": [],
   "source": [
    "theText = '''There is so much to learn in Python.'''\n",
    "type(theText)"
   ]
  },
  {
   "cell_type": "code",
   "execution_count": null,
   "metadata": {
    "collapsed": true
   },
   "outputs": [],
   "source": [
    "import random\n",
    "type(random)"
   ]
  },
  {
   "cell_type": "markdown",
   "metadata": {},
   "source": [
    "### Doing things with Strings\n",
    "\n",
    "We can do different things with strings:\n",
    "* Getting things into strings\n",
    "* Slicing strings (Remember the first index is 0)\n",
    "* Methods are associated with objects. Methods will vary depending on the type of the object."
   ]
  },
  {
   "cell_type": "code",
   "execution_count": null,
   "metadata": {
    "collapsed": true
   },
   "outputs": [],
   "source": [
    "theText += \"And there are too many tutorials.\""
   ]
  },
  {
   "cell_type": "code",
   "execution_count": null,
   "metadata": {},
   "outputs": [],
   "source": [
    "theText"
   ]
  },
  {
   "cell_type": "code",
   "execution_count": null,
   "metadata": {},
   "outputs": [],
   "source": [
    "theText[12:16]"
   ]
  },
  {
   "cell_type": "code",
   "execution_count": null,
   "metadata": {},
   "outputs": [],
   "source": [
    "theText.lower()"
   ]
  },
  {
   "cell_type": "code",
   "execution_count": null,
   "metadata": {},
   "outputs": [],
   "source": [
    "theText"
   ]
  },
  {
   "cell_type": "code",
   "execution_count": null,
   "metadata": {},
   "outputs": [],
   "source": [
    "theText.find(\"learn\")"
   ]
  },
  {
   "cell_type": "markdown",
   "metadata": {},
   "source": [
    "## Doing things with Lists\n",
    "\n",
    "Another datatype we learned about is a list. Here are some things we can do. "
   ]
  },
  {
   "cell_type": "code",
   "execution_count": null,
   "metadata": {},
   "outputs": [],
   "source": [
    "# Creating a list from scratch\n",
    "listOfNames = [\"Geoff\",\"Greg\",\"George\",\"Gerald\"]\n",
    "listOfNames"
   ]
  },
  {
   "cell_type": "code",
   "execution_count": null,
   "metadata": {
    "collapsed": true
   },
   "outputs": [],
   "source": [
    "# Here we split on spaces to get a list\n",
    "aText = \"Here is a text that is not too long.\"\n",
    "tokens = aText.split()\n",
    "tokens"
   ]
  },
  {
   "cell_type": "code",
   "execution_count": null,
   "metadata": {},
   "outputs": [],
   "source": [
    "# Slicing a list\n",
    "listOfNames[3]"
   ]
  },
  {
   "cell_type": "code",
   "execution_count": null,
   "metadata": {},
   "outputs": [],
   "source": [
    "# Getting length in items of a list\n",
    "len(listOfNames)"
   ]
  },
  {
   "cell_type": "markdown",
   "metadata": {},
   "source": [
    "## Homework\n",
    "\n",
    "Here is one way to solive the homework assignment."
   ]
  },
  {
   "cell_type": "code",
   "execution_count": null,
   "metadata": {},
   "outputs": [],
   "source": [
    "import random\n",
    "theAdjectives = [\"meaningless\",\"empty\",\"enlightening\",\"true\",\"false\"]\n",
    "theNouns = [\"ideas\",\"things\",\"ends\",\"beings\",\"statements\"]\n",
    "thePhrase = \"All \" + random.choice(theNouns) + \" are \" + random.choice(theAdjectives) + \"!\"\n",
    "print(thePhrase)"
   ]
  },
  {
   "cell_type": "markdown",
   "metadata": {},
   "source": [
    "**Questions**\n",
    "* How else might we solve it?\n",
    "* How could we tighten up this code?"
   ]
  }
 ],
 "metadata": {
  "kernelspec": {
   "display_name": "Python 3",
   "language": "python",
   "name": "python3"
  },
  "language_info": {
   "codemirror_mode": {
    "name": "ipython",
    "version": 3
   },
   "file_extension": ".py",
   "mimetype": "text/x-python",
   "name": "python",
   "nbconvert_exporter": "python",
   "pygments_lexer": "ipython3",
   "version": "3.6.1"
  }
 },
 "nbformat": 4,
 "nbformat_minor": 2
}

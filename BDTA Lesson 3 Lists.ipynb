{
 "cells": [
  {
   "cell_type": "markdown",
   "metadata": {},
   "source": [
    "# BDTA Lesson 3: Lists\n",
    "\n",
    "In this lesson we will learn more ways of handling strings."
   ]
  },
  {
   "cell_type": "markdown",
   "metadata": {},
   "source": [
    "## A text to process"
   ]
  },
  {
   "cell_type": "code",
   "execution_count": 55,
   "metadata": {
    "collapsed": false
   },
   "outputs": [
    {
     "data": {
      "text/plain": [
       "\"To be, or not to be, that is the question:\\nWhether 'tis nobler in the mind to suffer\\nThe slings and arrows of outrageous fortune,\\nOr to take Arms against a Sea of troubles,\\nAnd by opposing end them: to die, to sleep\\nNo more; and by a sleep, to say we end\\n\""
      ]
     },
     "execution_count": 55,
     "metadata": {},
     "output_type": "execute_result"
    }
   ],
   "source": [
    "theBigText = '''To be, or not to be, that is the question:\n",
    "Whether 'tis nobler in the mind to suffer\n",
    "The slings and arrows of outrageous fortune,\n",
    "Or to take Arms against a Sea of troubles,\n",
    "And by opposing end them: to die, to sleep\n",
    "No more; and by a sleep, to say we end\n",
    "'''\n",
    "theBigText"
   ]
  },
  {
   "cell_type": "markdown",
   "metadata": {},
   "source": [
    "Here you can see how we can concatenate text to the variable."
   ]
  },
  {
   "cell_type": "code",
   "execution_count": 56,
   "metadata": {
    "collapsed": false
   },
   "outputs": [
    {
     "data": {
      "text/plain": [
       "\"To be, or not to be, that is the question:\\nWhether 'tis nobler in the mind to suffer\\nThe slings and arrows of outrageous fortune,\\nOr to take Arms against a Sea of troubles,\\nAnd by opposing end them: to die, to sleep\\nNo more; and by a sleep, to say we end\\nthe heart-ache, and the thousand natural shocks\\nthat Flesh is heir to?\""
      ]
     },
     "execution_count": 56,
     "metadata": {},
     "output_type": "execute_result"
    }
   ],
   "source": [
    "theBigText += \"the heart-ache, and the thousand natural shocks\\n\"\n",
    "theBigText += \"that Flesh is heir to?\"\n",
    "theBigText"
   ]
  },
  {
   "cell_type": "markdown",
   "metadata": {},
   "source": [
    "## Doing things to the text\n",
    "\n",
    "We can do things to the text like found out how many characters long it is. Note how we built a response for the ```print()``` function."
   ]
  },
  {
   "cell_type": "code",
   "execution_count": 57,
   "metadata": {
    "collapsed": false
   },
   "outputs": [
    {
     "name": "stdout",
     "output_type": "stream",
     "text": [
      "This string has 325 characters.\n"
     ]
    }
   ],
   "source": [
    "print(\"This string has\", len(theBigText), \"characters.\")"
   ]
  },
  {
   "cell_type": "markdown",
   "metadata": {},
   "source": [
    "We can use a method ```splitlines()``` to create a list of lines. A list is a different datatype. Lists can be manipulated like strings. You can get a slice or an item. Note how the first item has an index of 0."
   ]
  },
  {
   "cell_type": "code",
   "execution_count": 19,
   "metadata": {
    "collapsed": false
   },
   "outputs": [
    {
     "data": {
      "text/plain": [
       "['To be, or not to be, that is the question:',\n",
       " \"Whether 'tis nobler in the mind to suffer\",\n",
       " 'The slings and arrows of outrageous fortune,',\n",
       " 'Or to take Arms against a Sea of troubles,',\n",
       " 'And by opposing end them: to die, to sleep',\n",
       " 'No more; and by a sleep, to say we end',\n",
       " 'the heart-ache, and the thousand natural shocks',\n",
       " 'that Flesh is heir to?']"
      ]
     },
     "execution_count": 19,
     "metadata": {},
     "output_type": "execute_result"
    }
   ],
   "source": [
    "theLines = theBigText.splitlines()\n",
    "theLines"
   ]
  },
  {
   "cell_type": "code",
   "execution_count": 4,
   "metadata": {
    "collapsed": false
   },
   "outputs": [
    {
     "data": {
      "text/plain": [
       "'Or to take Arms against a Sea of troubles,'"
      ]
     },
     "execution_count": 4,
     "metadata": {},
     "output_type": "execute_result"
    }
   ],
   "source": [
    "theLines[3]"
   ]
  },
  {
   "cell_type": "code",
   "execution_count": 43,
   "metadata": {
    "collapsed": false
   },
   "outputs": [
    {
     "data": {
      "text/plain": [
       "42"
      ]
     },
     "execution_count": 43,
     "metadata": {},
     "output_type": "execute_result"
    }
   ],
   "source": [
    "len(theLines[3])"
   ]
  },
  {
   "cell_type": "code",
   "execution_count": 7,
   "metadata": {
    "collapsed": false
   },
   "outputs": [
    {
     "name": "stdout",
     "output_type": "stream",
     "text": [
      "['And by opposing end them: to die, to sleep', 'No more; and by a sleep, to say we end', 'the heart-ache, and the thousand natural shocks']\n"
     ]
    }
   ],
   "source": [
    "print(theLines[4:-1])"
   ]
  },
  {
   "cell_type": "markdown",
   "metadata": {},
   "source": [
    "## Tokenize\n",
    "\n",
    "We can also split the original Hamlet text into words using the ```split()``` method. This splits the string into units on white space into a list of words."
   ]
  },
  {
   "cell_type": "code",
   "execution_count": 36,
   "metadata": {
    "collapsed": false
   },
   "outputs": [
    {
     "data": {
      "text/plain": [
       "['To',\n",
       " 'be,',\n",
       " 'or',\n",
       " 'not',\n",
       " 'to',\n",
       " 'be,',\n",
       " 'that',\n",
       " 'is',\n",
       " 'the',\n",
       " 'question:',\n",
       " 'Whether',\n",
       " \"'tis\",\n",
       " 'nobler',\n",
       " 'in',\n",
       " 'the']"
      ]
     },
     "execution_count": 36,
     "metadata": {},
     "output_type": "execute_result"
    }
   ],
   "source": [
    "theWords = theBigText.split()\n",
    "theWords[:15]"
   ]
  },
  {
   "cell_type": "markdown",
   "metadata": {},
   "source": [
    "There are a couple of problems with this list of words. Some are capitalized and some are not. There is also punctuation. The campitalization we can fix with the ```.lower()``` method. Removing punctuation we will learn later."
   ]
  },
  {
   "cell_type": "code",
   "execution_count": 40,
   "metadata": {
    "collapsed": false
   },
   "outputs": [
    {
     "data": {
      "text/plain": [
       "['to',\n",
       " 'be,',\n",
       " 'or',\n",
       " 'not',\n",
       " 'to',\n",
       " 'be,',\n",
       " 'that',\n",
       " 'is',\n",
       " 'the',\n",
       " 'question:',\n",
       " 'whether',\n",
       " \"'tis\",\n",
       " 'nobler',\n",
       " 'in',\n",
       " 'the']"
      ]
     },
     "execution_count": 40,
     "metadata": {},
     "output_type": "execute_result"
    }
   ],
   "source": [
    "theLowerBig = theBigText.lower()\n",
    "theLWords = theLowerBig.split()\n",
    "theLWords[:15]"
   ]
  },
  {
   "cell_type": "code",
   "execution_count": 41,
   "metadata": {
    "collapsed": false
   },
   "outputs": [
    {
     "data": {
      "text/plain": [
       "65"
      ]
     },
     "execution_count": 41,
     "metadata": {},
     "output_type": "execute_result"
    }
   ],
   "source": [
    "len(theLWords)"
   ]
  },
  {
   "cell_type": "markdown",
   "metadata": {},
   "source": [
    "This list can be sorted. Note how the punctuation causes trouble."
   ]
  },
  {
   "cell_type": "code",
   "execution_count": 44,
   "metadata": {
    "collapsed": false
   },
   "outputs": [
    {
     "data": {
      "text/plain": [
       "[\"'tis\",\n",
       " 'a',\n",
       " 'a',\n",
       " 'against',\n",
       " 'and',\n",
       " 'and',\n",
       " 'and',\n",
       " 'and',\n",
       " 'arms',\n",
       " 'arrows',\n",
       " 'be,',\n",
       " 'be,',\n",
       " 'by',\n",
       " 'by',\n",
       " 'die,',\n",
       " 'end',\n",
       " 'end',\n",
       " 'flesh',\n",
       " 'fortune,',\n",
       " 'heart-ache,',\n",
       " 'heir',\n",
       " 'in',\n",
       " 'is',\n",
       " 'is',\n",
       " 'mind',\n",
       " 'more;',\n",
       " 'natural',\n",
       " 'no',\n",
       " 'nobler',\n",
       " 'not',\n",
       " 'of',\n",
       " 'of',\n",
       " 'opposing',\n",
       " 'or',\n",
       " 'or',\n",
       " 'outrageous',\n",
       " 'question:',\n",
       " 'say',\n",
       " 'sea',\n",
       " 'shocks',\n",
       " 'sleep',\n",
       " 'sleep,',\n",
       " 'slings',\n",
       " 'suffer',\n",
       " 'take',\n",
       " 'that',\n",
       " 'that',\n",
       " 'the',\n",
       " 'the',\n",
       " 'the',\n",
       " 'the',\n",
       " 'the',\n",
       " 'them:',\n",
       " 'thousand',\n",
       " 'to',\n",
       " 'to',\n",
       " 'to',\n",
       " 'to',\n",
       " 'to',\n",
       " 'to',\n",
       " 'to',\n",
       " 'to?',\n",
       " 'troubles,',\n",
       " 'we',\n",
       " 'whether']"
      ]
     },
     "execution_count": 44,
     "metadata": {},
     "output_type": "execute_result"
    }
   ],
   "source": [
    "theSorted = sorted(theLWords)\n",
    "theSorted"
   ]
  },
  {
   "cell_type": "markdown",
   "metadata": {},
   "source": [
    "### Getting a Random Word\n",
    "\n",
    "We can also get a random word from a list and use it in a sentence. Note how we have to import a module ```random```."
   ]
  },
  {
   "cell_type": "code",
   "execution_count": 59,
   "metadata": {
    "collapsed": false
   },
   "outputs": [
    {
     "data": {
      "text/plain": [
       "'them:'"
      ]
     },
     "execution_count": 59,
     "metadata": {},
     "output_type": "execute_result"
    }
   ],
   "source": [
    "random.choice(theLWords)"
   ]
  },
  {
   "cell_type": "code",
   "execution_count": 60,
   "metadata": {
    "collapsed": false
   },
   "outputs": [
    {
     "name": "stdout",
     "output_type": "stream",
     "text": [
      "The random word is: \"the\"\n"
     ]
    }
   ],
   "source": [
    "import random\n",
    "print(\"The random word is: \\\"\" + random.choice(theLWords) + \"\\\"\")"
   ]
  },
  {
   "cell_type": "markdown",
   "metadata": {},
   "source": [
    "## Counting words\n",
    "\n",
    "To count the number of each **word type** will use a module called *collections*. This will give us a new datatype that we can use like a *dictionary*."
   ]
  },
  {
   "cell_type": "code",
   "execution_count": 46,
   "metadata": {
    "collapsed": false
   },
   "outputs": [
    {
     "name": "stdout",
     "output_type": "stream",
     "text": [
      "Counter({'to': 7, 'the': 5, 'and': 4, 'end': 2, 'be,': 2, 'by': 2, 'of': 2, 'that': 2, 'is': 2, 'or': 2, 'a': 2, 'no': 1, 'whether': 1, 'fortune,': 1, 'natural': 1, 'heir': 1, 'outrageous': 1, 'arrows': 1, 'nobler': 1, 'take': 1, 'against': 1, 'heart-ache,': 1, 'sleep,': 1, 'flesh': 1, 'opposing': 1, 'not': 1, 'suffer': 1, 'die,': 1, 'them:': 1, 'shocks': 1, 'say': 1, 'arms': 1, 'in': 1, 'mind': 1, 'question:': 1, 'sleep': 1, \"'tis\": 1, 'sea': 1, 'thousand': 1, 'more;': 1, 'troubles,': 1, 'to?': 1, 'we': 1, 'slings': 1})\n"
     ]
    }
   ],
   "source": [
    "from collections import Counter\n",
    "theCounts = Counter(theSorted)\n",
    "print(theCounts)"
   ]
  },
  {
   "cell_type": "code",
   "execution_count": 54,
   "metadata": {
    "collapsed": false
   },
   "outputs": [
    {
     "data": {
      "text/plain": [
       "collections.Counter"
      ]
     },
     "execution_count": 54,
     "metadata": {},
     "output_type": "execute_result"
    }
   ],
   "source": [
    "type(theCounts)"
   ]
  },
  {
   "cell_type": "markdown",
   "metadata": {},
   "source": [
    "With this we can look up the count for any word."
   ]
  },
  {
   "cell_type": "code",
   "execution_count": 48,
   "metadata": {
    "collapsed": false
   },
   "outputs": [
    {
     "data": {
      "text/plain": [
       "5"
      ]
     },
     "execution_count": 48,
     "metadata": {},
     "output_type": "execute_result"
    }
   ],
   "source": [
    "theCounts[\"the\"]"
   ]
  },
  {
   "cell_type": "code",
   "execution_count": 49,
   "metadata": {
    "collapsed": false
   },
   "outputs": [
    {
     "data": {
      "text/plain": [
       "[('to', 7), ('the', 5), ('and', 4)]"
      ]
     },
     "execution_count": 49,
     "metadata": {},
     "output_type": "execute_result"
    }
   ],
   "source": [
    "theCounts.most_common(3)"
   ]
  },
  {
   "cell_type": "markdown",
   "metadata": {},
   "source": [
    "----\n",
    "# Getting Help\n",
    "\n",
    "There are a number of places to get help for manipulating strings and lists. Here are some tutorials that will give you ideas about what you can do:\n",
    "* [Manipulating Strings in Python](https://programminghistorian.org/lessons/manipulating-strings-in-python)\n",
    "* [Counting Frequencies](https://programminghistorian.org/lessons/counting-frequencies)\n",
    "For that matter there are a whole series of Programming Historian lessons you can check out.\n",
    "\n",
    "Stéfan Sinclai and I have also write a text book called the [Art of Literary Text Analyss](https://github.com/sgsinclair/alta/blob/master/ipynb/ArtOfLiteraryTextAnalysis.ipynb)"
   ]
  },
  {
   "cell_type": "markdown",
   "metadata": {},
   "source": [
    "----\n",
    "# Homework\n",
    "\n",
    "### Part 1\n",
    "Write a notebook that has code that generates random sentences from lists of words. The template should be something like: \n",
    "\n",
    "```\n",
    "All <noun> are <adjective>!\n",
    "```\n",
    "\n",
    "To do this you need to:\n",
    "\n",
    "* Create a list of adjectives.\n",
    "* Create a list of nouns.\n",
    "* Use ```random.choice``` to pick one of each.\n",
    "* Concatenate the sentence and print it.\n",
    "\n",
    "### Part 2\n",
    "Write notebook that opens a text file, tokenizes it and identifies the top 10 high-frequency words. To do this you need to:\n",
    "* Put the text file in the folder with the notebook.\n",
    "* Figure out the code for opening a text file and reading it into a variable. Can you figure out how to find code that will open a file and read it in?\n",
    "* Then you want to split it into words (tokenize it). \n",
    "* Then you need to count the words and find the top ten.\n",
    "\n",
    "The important thing is to explain what you are doing using markdown cells."
   ]
  },
  {
   "cell_type": "code",
   "execution_count": null,
   "metadata": {
    "collapsed": true
   },
   "outputs": [],
   "source": []
  }
 ],
 "metadata": {
  "kernelspec": {
   "display_name": "Python 3",
   "language": "python",
   "name": "python3"
  },
  "language_info": {
   "codemirror_mode": {
    "name": "ipython",
    "version": 3
   },
   "file_extension": ".py",
   "mimetype": "text/x-python",
   "name": "python",
   "nbconvert_exporter": "python",
   "pygments_lexer": "ipython3",
   "version": "3.5.1"
  }
 },
 "nbformat": 4,
 "nbformat_minor": 0
}
